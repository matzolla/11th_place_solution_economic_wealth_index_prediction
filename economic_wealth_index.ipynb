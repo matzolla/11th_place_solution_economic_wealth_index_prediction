{
  "nbformat": 4,
  "nbformat_minor": 0,
  "metadata": {
    "colab": {
      "name": "economic_wealth_index.ipynb",
      "provenance": []
    },
    "kernelspec": {
      "display_name": "Python 3",
      "language": "python",
      "name": "python3"
    },
    "language_info": {
      "codemirror_mode": {
        "name": "ipython",
        "version": 3
      },
      "file_extension": ".py",
      "mimetype": "text/x-python",
      "name": "python",
      "nbconvert_exporter": "python",
      "pygments_lexer": "ipython3",
      "version": "3.5.3"
    }
  },
  "cells": [
    {
      "cell_type": "markdown",
      "metadata": {
        "id": "TbKxIvA1YH_v"
      },
      "source": [
        "## About the Problem\n",
        "\n",
        "Granular information on economic well being is extremely useful for governments and policy makers. But household surveys that capture this kind of information are expensive and conducted infrequently in many African countries. For this competition we will attempt to create a workaround for this lack of data by building a model able to predict a measure of wealth as measured in household surveys using readily available inputs.\n",
        "\n",
        "Using data from 18 different countries collected at different times, you must correctly predict the cluster-level estimated wealth measures found from surveys in 7 different countries not covered in the training data. A successful model could be useful for filling in the gaps between the more expensive surveys."
      ]
    },
    {
      "cell_type": "markdown",
      "metadata": {
        "id": "nrSDahDh4ijR"
      },
      "source": [
        "## Importing Useful packages"
      ]
    },
    {
      "cell_type": "code",
      "metadata": {
        "collapsed": true,
        "id": "pG-7qmThYH_y"
      },
      "source": [
        "import numpy as np\n",
        "import pandas as pd\n",
        "import seaborn as sns\n",
        "import matplotlib.pyplot as plt\n",
        "from sklearn.preprocessing import LabelEncoder\n",
        "from sklearn.preprocessing import MinMaxScaler\n",
        "from sklearn.model_selection import train_test_split\n",
        "from sklearn.model_selection import KFold,StratifiedKFold, TimeSeriesSplit, GroupKFold,RepeatedKFold"
      ],
      "execution_count": 1,
      "outputs": []
    },
    {
      "cell_type": "markdown",
      "metadata": {
        "id": "xrOk-xoK4ijU"
      },
      "source": [
        "## Loading The Dataset\n",
        "\n",
        "We load the train,test and sample submission file"
      ]
    },
    {
      "cell_type": "code",
      "metadata": {
        "collapsed": true,
        "id": "VQvIpWDgYH_0"
      },
      "source": [
        "#loading our train and sample submission file:\n",
        "train=pd.read_csv('Train.csv')"
      ],
      "execution_count": 2,
      "outputs": []
    },
    {
      "cell_type": "code",
      "metadata": {
        "collapsed": true,
        "id": "TyZoRjK8YH_6"
      },
      "source": [
        "test=pd.read_csv('Test.csv')"
      ],
      "execution_count": 3,
      "outputs": []
    },
    {
      "cell_type": "code",
      "metadata": {
        "collapsed": true,
        "id": "Cd991H8_YH_8"
      },
      "source": [
        "submit=pd.read_csv('SampleSubmission.csv')"
      ],
      "execution_count": 4,
      "outputs": []
    },
    {
      "cell_type": "code",
      "metadata": {
        "colab": {
          "base_uri": "https://localhost:8080/",
          "height": 222
        },
        "id": "Ht_xWhXdYH_1",
        "outputId": "e30307d5-4d86-482a-aa99-ff8cfdafa21f"
      },
      "source": [
        "#An overview of the train set using train.head()\n",
        "train.head()"
      ],
      "execution_count": 5,
      "outputs": [
        {
          "output_type": "execute_result",
          "data": {
            "text/html": [
              "<div>\n",
              "<style scoped>\n",
              "    .dataframe tbody tr th:only-of-type {\n",
              "        vertical-align: middle;\n",
              "    }\n",
              "\n",
              "    .dataframe tbody tr th {\n",
              "        vertical-align: top;\n",
              "    }\n",
              "\n",
              "    .dataframe thead th {\n",
              "        text-align: right;\n",
              "    }\n",
              "</style>\n",
              "<table border=\"1\" class=\"dataframe\">\n",
              "  <thead>\n",
              "    <tr style=\"text-align: right;\">\n",
              "      <th></th>\n",
              "      <th>ID</th>\n",
              "      <th>country</th>\n",
              "      <th>year</th>\n",
              "      <th>urban_or_rural</th>\n",
              "      <th>ghsl_water_surface</th>\n",
              "      <th>ghsl_built_pre_1975</th>\n",
              "      <th>ghsl_built_1975_to_1990</th>\n",
              "      <th>ghsl_built_1990_to_2000</th>\n",
              "      <th>ghsl_built_2000_to_2014</th>\n",
              "      <th>ghsl_not_built_up</th>\n",
              "      <th>ghsl_pop_density</th>\n",
              "      <th>landcover_crops_fraction</th>\n",
              "      <th>landcover_urban_fraction</th>\n",
              "      <th>landcover_water_permanent_10km_fraction</th>\n",
              "      <th>landcover_water_seasonal_10km_fraction</th>\n",
              "      <th>nighttime_lights</th>\n",
              "      <th>dist_to_capital</th>\n",
              "      <th>dist_to_shoreline</th>\n",
              "      <th>Target</th>\n",
              "    </tr>\n",
              "  </thead>\n",
              "  <tbody>\n",
              "    <tr>\n",
              "      <th>0</th>\n",
              "      <td>ID_AAIethGy</td>\n",
              "      <td>Ethiopia</td>\n",
              "      <td>2016</td>\n",
              "      <td>R</td>\n",
              "      <td>0.0</td>\n",
              "      <td>0.000000</td>\n",
              "      <td>0.000000</td>\n",
              "      <td>0.000055</td>\n",
              "      <td>0.000536</td>\n",
              "      <td>0.999408</td>\n",
              "      <td>12.146134</td>\n",
              "      <td>25.489659</td>\n",
              "      <td>0.879484</td>\n",
              "      <td>0.000000</td>\n",
              "      <td>0.000000</td>\n",
              "      <td>0.000000</td>\n",
              "      <td>278.788451</td>\n",
              "      <td>769.338378</td>\n",
              "      <td>0.132783</td>\n",
              "    </tr>\n",
              "    <tr>\n",
              "      <th>1</th>\n",
              "      <td>ID_AAYiaCeL</td>\n",
              "      <td>Ethiopia</td>\n",
              "      <td>2005</td>\n",
              "      <td>R</td>\n",
              "      <td>0.0</td>\n",
              "      <td>0.000000</td>\n",
              "      <td>0.000110</td>\n",
              "      <td>0.000000</td>\n",
              "      <td>0.000018</td>\n",
              "      <td>0.999872</td>\n",
              "      <td>113.806716</td>\n",
              "      <td>64.136053</td>\n",
              "      <td>0.601427</td>\n",
              "      <td>0.000000</td>\n",
              "      <td>0.005427</td>\n",
              "      <td>0.000000</td>\n",
              "      <td>200.986978</td>\n",
              "      <td>337.135243</td>\n",
              "      <td>0.004898</td>\n",
              "    </tr>\n",
              "    <tr>\n",
              "      <th>2</th>\n",
              "      <td>ID_AAdurmKj</td>\n",
              "      <td>Mozambique</td>\n",
              "      <td>2009</td>\n",
              "      <td>R</td>\n",
              "      <td>0.0</td>\n",
              "      <td>0.000000</td>\n",
              "      <td>0.000000</td>\n",
              "      <td>0.000000</td>\n",
              "      <td>0.000000</td>\n",
              "      <td>1.000000</td>\n",
              "      <td>0.000000</td>\n",
              "      <td>4.400096</td>\n",
              "      <td>0.131900</td>\n",
              "      <td>0.000000</td>\n",
              "      <td>0.003078</td>\n",
              "      <td>0.000000</td>\n",
              "      <td>642.594208</td>\n",
              "      <td>169.913773</td>\n",
              "      <td>0.097320</td>\n",
              "    </tr>\n",
              "    <tr>\n",
              "      <th>3</th>\n",
              "      <td>ID_AAgNHles</td>\n",
              "      <td>Malawi</td>\n",
              "      <td>2015</td>\n",
              "      <td>R</td>\n",
              "      <td>0.0</td>\n",
              "      <td>0.000141</td>\n",
              "      <td>0.000181</td>\n",
              "      <td>0.000254</td>\n",
              "      <td>0.000228</td>\n",
              "      <td>0.999195</td>\n",
              "      <td>5.213320</td>\n",
              "      <td>25.379371</td>\n",
              "      <td>2.017136</td>\n",
              "      <td>11.293841</td>\n",
              "      <td>0.131035</td>\n",
              "      <td>0.000000</td>\n",
              "      <td>365.349451</td>\n",
              "      <td>613.591610</td>\n",
              "      <td>0.304107</td>\n",
              "    </tr>\n",
              "    <tr>\n",
              "      <th>4</th>\n",
              "      <td>ID_AAishfND</td>\n",
              "      <td>Guinea</td>\n",
              "      <td>2012</td>\n",
              "      <td>U</td>\n",
              "      <td>0.0</td>\n",
              "      <td>0.011649</td>\n",
              "      <td>0.017560</td>\n",
              "      <td>0.017383</td>\n",
              "      <td>0.099875</td>\n",
              "      <td>0.853533</td>\n",
              "      <td>31.734661</td>\n",
              "      <td>5.081620</td>\n",
              "      <td>22.815984</td>\n",
              "      <td>0.005047</td>\n",
              "      <td>0.130475</td>\n",
              "      <td>1.461894</td>\n",
              "      <td>222.867189</td>\n",
              "      <td>192.926363</td>\n",
              "      <td>0.605328</td>\n",
              "    </tr>\n",
              "  </tbody>\n",
              "</table>\n",
              "</div>"
            ],
            "text/plain": [
              "            ID     country  year  ... dist_to_capital  dist_to_shoreline    Target\n",
              "0  ID_AAIethGy    Ethiopia  2016  ...      278.788451         769.338378  0.132783\n",
              "1  ID_AAYiaCeL    Ethiopia  2005  ...      200.986978         337.135243  0.004898\n",
              "2  ID_AAdurmKj  Mozambique  2009  ...      642.594208         169.913773  0.097320\n",
              "3  ID_AAgNHles      Malawi  2015  ...      365.349451         613.591610  0.304107\n",
              "4  ID_AAishfND      Guinea  2012  ...      222.867189         192.926363  0.605328\n",
              "\n",
              "[5 rows x 19 columns]"
            ]
          },
          "metadata": {
            "tags": []
          },
          "execution_count": 5
        }
      ]
    },
    {
      "cell_type": "code",
      "metadata": {
        "colab": {
          "base_uri": "https://localhost:8080/",
          "height": 314
        },
        "id": "DNrgih3vd1Mx",
        "outputId": "4e3dd158-48de-4039-e36e-f93899547c0c"
      },
      "source": [
        "train.describe()"
      ],
      "execution_count": 6,
      "outputs": [
        {
          "output_type": "execute_result",
          "data": {
            "text/html": [
              "<div>\n",
              "<style scoped>\n",
              "    .dataframe tbody tr th:only-of-type {\n",
              "        vertical-align: middle;\n",
              "    }\n",
              "\n",
              "    .dataframe tbody tr th {\n",
              "        vertical-align: top;\n",
              "    }\n",
              "\n",
              "    .dataframe thead th {\n",
              "        text-align: right;\n",
              "    }\n",
              "</style>\n",
              "<table border=\"1\" class=\"dataframe\">\n",
              "  <thead>\n",
              "    <tr style=\"text-align: right;\">\n",
              "      <th></th>\n",
              "      <th>year</th>\n",
              "      <th>ghsl_water_surface</th>\n",
              "      <th>ghsl_built_pre_1975</th>\n",
              "      <th>ghsl_built_1975_to_1990</th>\n",
              "      <th>ghsl_built_1990_to_2000</th>\n",
              "      <th>ghsl_built_2000_to_2014</th>\n",
              "      <th>ghsl_not_built_up</th>\n",
              "      <th>ghsl_pop_density</th>\n",
              "      <th>landcover_crops_fraction</th>\n",
              "      <th>landcover_urban_fraction</th>\n",
              "      <th>landcover_water_permanent_10km_fraction</th>\n",
              "      <th>landcover_water_seasonal_10km_fraction</th>\n",
              "      <th>nighttime_lights</th>\n",
              "      <th>dist_to_capital</th>\n",
              "      <th>dist_to_shoreline</th>\n",
              "      <th>Target</th>\n",
              "    </tr>\n",
              "  </thead>\n",
              "  <tbody>\n",
              "    <tr>\n",
              "      <th>count</th>\n",
              "      <td>21454.000000</td>\n",
              "      <td>21454.000000</td>\n",
              "      <td>21454.000000</td>\n",
              "      <td>21454.000000</td>\n",
              "      <td>21454.000000</td>\n",
              "      <td>21454.000000</td>\n",
              "      <td>21454.000000</td>\n",
              "      <td>21454.000000</td>\n",
              "      <td>21454.000000</td>\n",
              "      <td>21454.000000</td>\n",
              "      <td>21454.000000</td>\n",
              "      <td>21454.000000</td>\n",
              "      <td>21454.000000</td>\n",
              "      <td>21454.000000</td>\n",
              "      <td>21454.000000</td>\n",
              "      <td>21454.000000</td>\n",
              "    </tr>\n",
              "    <tr>\n",
              "      <th>mean</th>\n",
              "      <td>2010.060874</td>\n",
              "      <td>0.028259</td>\n",
              "      <td>0.038222</td>\n",
              "      <td>0.028644</td>\n",
              "      <td>0.012689</td>\n",
              "      <td>0.018386</td>\n",
              "      <td>0.873800</td>\n",
              "      <td>95.756775</td>\n",
              "      <td>21.034265</td>\n",
              "      <td>13.999061</td>\n",
              "      <td>1.486849</td>\n",
              "      <td>0.714891</td>\n",
              "      <td>8.506543</td>\n",
              "      <td>289.722268</td>\n",
              "      <td>402.608539</td>\n",
              "      <td>0.350736</td>\n",
              "    </tr>\n",
              "    <tr>\n",
              "      <th>std</th>\n",
              "      <td>4.799579</td>\n",
              "      <td>0.097490</td>\n",
              "      <td>0.113562</td>\n",
              "      <td>0.077367</td>\n",
              "      <td>0.032745</td>\n",
              "      <td>0.040421</td>\n",
              "      <td>0.239294</td>\n",
              "      <td>209.704761</td>\n",
              "      <td>16.751106</td>\n",
              "      <td>23.715485</td>\n",
              "      <td>6.550171</td>\n",
              "      <td>2.383701</td>\n",
              "      <td>21.090378</td>\n",
              "      <td>238.811778</td>\n",
              "      <td>321.517285</td>\n",
              "      <td>0.194376</td>\n",
              "    </tr>\n",
              "    <tr>\n",
              "      <th>min</th>\n",
              "      <td>1994.000000</td>\n",
              "      <td>0.000000</td>\n",
              "      <td>0.000000</td>\n",
              "      <td>0.000000</td>\n",
              "      <td>0.000000</td>\n",
              "      <td>0.000000</td>\n",
              "      <td>0.000859</td>\n",
              "      <td>0.000000</td>\n",
              "      <td>0.000000</td>\n",
              "      <td>0.000000</td>\n",
              "      <td>0.000000</td>\n",
              "      <td>0.000000</td>\n",
              "      <td>0.000000</td>\n",
              "      <td>0.105306</td>\n",
              "      <td>0.112080</td>\n",
              "      <td>0.000000</td>\n",
              "    </tr>\n",
              "    <tr>\n",
              "      <th>25%</th>\n",
              "      <td>2008.000000</td>\n",
              "      <td>0.000000</td>\n",
              "      <td>0.000000</td>\n",
              "      <td>0.000000</td>\n",
              "      <td>0.000043</td>\n",
              "      <td>0.000124</td>\n",
              "      <td>0.897867</td>\n",
              "      <td>3.848533</td>\n",
              "      <td>5.610515</td>\n",
              "      <td>0.798841</td>\n",
              "      <td>0.000000</td>\n",
              "      <td>0.001325</td>\n",
              "      <td>0.000000</td>\n",
              "      <td>115.890873</td>\n",
              "      <td>126.379463</td>\n",
              "      <td>0.195772</td>\n",
              "    </tr>\n",
              "    <tr>\n",
              "      <th>50%</th>\n",
              "      <td>2011.000000</td>\n",
              "      <td>0.000000</td>\n",
              "      <td>0.000198</td>\n",
              "      <td>0.000709</td>\n",
              "      <td>0.001001</td>\n",
              "      <td>0.001871</td>\n",
              "      <td>0.991919</td>\n",
              "      <td>17.632672</td>\n",
              "      <td>18.509291</td>\n",
              "      <td>2.770159</td>\n",
              "      <td>0.000516</td>\n",
              "      <td>0.029151</td>\n",
              "      <td>0.137333</td>\n",
              "      <td>256.736472</td>\n",
              "      <td>327.271973</td>\n",
              "      <td>0.293574</td>\n",
              "    </tr>\n",
              "    <tr>\n",
              "      <th>75%</th>\n",
              "      <td>2014.000000</td>\n",
              "      <td>0.000000</td>\n",
              "      <td>0.007987</td>\n",
              "      <td>0.009868</td>\n",
              "      <td>0.008128</td>\n",
              "      <td>0.014936</td>\n",
              "      <td>0.999532</td>\n",
              "      <td>63.225683</td>\n",
              "      <td>33.590293</td>\n",
              "      <td>12.621501</td>\n",
              "      <td>0.152364</td>\n",
              "      <td>0.381969</td>\n",
              "      <td>4.830194</td>\n",
              "      <td>401.153071</td>\n",
              "      <td>643.910675</td>\n",
              "      <td>0.499003</td>\n",
              "    </tr>\n",
              "    <tr>\n",
              "      <th>max</th>\n",
              "      <td>2016.000000</td>\n",
              "      <td>0.969956</td>\n",
              "      <td>0.877116</td>\n",
              "      <td>0.685010</td>\n",
              "      <td>0.515534</td>\n",
              "      <td>0.649159</td>\n",
              "      <td>1.000000</td>\n",
              "      <td>1741.256516</td>\n",
              "      <td>80.064918</td>\n",
              "      <td>98.784092</td>\n",
              "      <td>99.164018</td>\n",
              "      <td>56.201637</td>\n",
              "      <td>382.932769</td>\n",
              "      <td>1897.351575</td>\n",
              "      <td>1769.523906</td>\n",
              "      <td>1.000000</td>\n",
              "    </tr>\n",
              "  </tbody>\n",
              "</table>\n",
              "</div>"
            ],
            "text/plain": [
              "               year  ghsl_water_surface  ...  dist_to_shoreline        Target\n",
              "count  21454.000000        21454.000000  ...       21454.000000  21454.000000\n",
              "mean    2010.060874            0.028259  ...         402.608539      0.350736\n",
              "std        4.799579            0.097490  ...         321.517285      0.194376\n",
              "min     1994.000000            0.000000  ...           0.112080      0.000000\n",
              "25%     2008.000000            0.000000  ...         126.379463      0.195772\n",
              "50%     2011.000000            0.000000  ...         327.271973      0.293574\n",
              "75%     2014.000000            0.000000  ...         643.910675      0.499003\n",
              "max     2016.000000            0.969956  ...        1769.523906      1.000000\n",
              "\n",
              "[8 rows x 16 columns]"
            ]
          },
          "metadata": {
            "tags": []
          },
          "execution_count": 6
        }
      ]
    },
    {
      "cell_type": "markdown",
      "metadata": {
        "id": "grEqB8P1YH_9"
      },
      "source": [
        "## Exploratory Data Analysis\n",
        "\n",
        "* I tried to check whether there exist missing values in the dataset, and the result was **negatif** (no missing values, a good news).\n",
        "* checking also for correlation between the independent\\independent variables and independent\\target variable\n",
        "reveals some strong negatif correlation between the predictors (example ghsl_not_built_up and nighttime_light). We also some independent variables revealing strong positive correlation  with the target variables (ghsl_pop_density, landcover_urban_fraction, nighttime_lights)\n",
        "* Cluster with large urban proportion,high nighttime light and relatively large population density turn to have a high wealth index."
      ]
    },
    {
      "cell_type": "code",
      "metadata": {
        "colab": {
          "base_uri": "https://localhost:8080/"
        },
        "id": "184E7OiL4ijZ",
        "outputId": "2a802852-207c-460a-f16a-07b9bd975705"
      },
      "source": [
        "#checking for missing values, identifying the categorical and numerical variables.\n",
        "train.info()"
      ],
      "execution_count": 7,
      "outputs": [
        {
          "output_type": "stream",
          "text": [
            "<class 'pandas.core.frame.DataFrame'>\n",
            "RangeIndex: 21454 entries, 0 to 21453\n",
            "Data columns (total 19 columns):\n",
            " #   Column                                   Non-Null Count  Dtype  \n",
            "---  ------                                   --------------  -----  \n",
            " 0   ID                                       21454 non-null  object \n",
            " 1   country                                  21454 non-null  object \n",
            " 2   year                                     21454 non-null  int64  \n",
            " 3   urban_or_rural                           21454 non-null  object \n",
            " 4   ghsl_water_surface                       21454 non-null  float64\n",
            " 5   ghsl_built_pre_1975                      21454 non-null  float64\n",
            " 6   ghsl_built_1975_to_1990                  21454 non-null  float64\n",
            " 7   ghsl_built_1990_to_2000                  21454 non-null  float64\n",
            " 8   ghsl_built_2000_to_2014                  21454 non-null  float64\n",
            " 9   ghsl_not_built_up                        21454 non-null  float64\n",
            " 10  ghsl_pop_density                         21454 non-null  float64\n",
            " 11  landcover_crops_fraction                 21454 non-null  float64\n",
            " 12  landcover_urban_fraction                 21454 non-null  float64\n",
            " 13  landcover_water_permanent_10km_fraction  21454 non-null  float64\n",
            " 14  landcover_water_seasonal_10km_fraction   21454 non-null  float64\n",
            " 15  nighttime_lights                         21454 non-null  float64\n",
            " 16  dist_to_capital                          21454 non-null  float64\n",
            " 17  dist_to_shoreline                        21454 non-null  float64\n",
            " 18  Target                                   21454 non-null  float64\n",
            "dtypes: float64(15), int64(1), object(3)\n",
            "memory usage: 3.1+ MB\n"
          ],
          "name": "stdout"
        }
      ]
    },
    {
      "cell_type": "markdown",
      "metadata": {
        "id": "14NueEFT9QVL"
      },
      "source": [
        "We have variables like 'urban_or_rural','country' and 'ID' which are categorical variables and the remaining ones are numeric. We also have no missing information on the train set."
      ]
    },
    {
      "cell_type": "markdown",
      "metadata": {
        "id": "fZgjBNy44ija"
      },
      "source": [
        "### Correlation matrix between independent variables"
      ]
    },
    {
      "cell_type": "markdown",
      "metadata": {
        "id": "yLIvkfr47M_w"
      },
      "source": [
        "e.g regions with large proportion of land not built  up, will turn to have a small nighttime light therefore accounting for the strong negatif correlation between this two independent variables."
      ]
    },
    {
      "cell_type": "code",
      "metadata": {
        "colab": {
          "base_uri": "https://localhost:8080/",
          "height": 297
        },
        "id": "OFVMqZfJ8Qdi",
        "outputId": "bac23221-4704-45f1-b82f-dd2af6e7cac7"
      },
      "source": [
        "train.plot(x='nighttime_lights', y='Target', kind='scatter', alpha=0.2)"
      ],
      "execution_count": 8,
      "outputs": [
        {
          "output_type": "execute_result",
          "data": {
            "text/plain": [
              "<matplotlib.axes._subplots.AxesSubplot at 0x7fa8efac2b90>"
            ]
          },
          "metadata": {
            "tags": []
          },
          "execution_count": 8
        },
        {
          "output_type": "display_data",
          "data": {
            "image/png": "[encoded data removed]",
            "text/plain": [
              "<Figure size 432x288 with 1 Axes>"
            ]
          },
          "metadata": {
            "tags": [],
            "needs_background": "light"
          }
        }
      ]
    },
    {
      "cell_type": "markdown",
      "metadata": {
        "id": "uK0J70Pp9WKL"
      },
      "source": [
        "Plotting the relationship nighttime_lights and the wealth index(Target), seems to present a strong positive correlation althought the values are almost sqwashed to zero. Normally the greater the nighttime light, the greater the economic activity therefore a greater wealth index.\n"
      ]
    },
    {
      "cell_type": "code",
      "metadata": {
        "colab": {
          "base_uri": "https://localhost:8080/"
        },
        "id": "1ux2i0guKgR5",
        "outputId": "b306d042-c257-4c40-d3e9-d53a9cfd5c5a"
      },
      "source": [
        "#investigating the countries in train and test set\n",
        "train.country.value_counts()"
      ],
      "execution_count": 9,
      "outputs": [
        {
          "output_type": "execute_result",
          "data": {
            "text/plain": [
              "Nigeria                     2695\n",
              "Kenya                       2626\n",
              "Tanzania                    2450\n",
              "Malawi                      1957\n",
              "Ethiopia                    1721\n",
              "Ghana                       1419\n",
              "Mali                        1295\n",
              "Cameroon                    1041\n",
              "Rwanda                       984\n",
              "Senegal                      903\n",
              "Mozambique                   879\n",
              "Lesotho                      794\n",
              "Sierra Leone                 785\n",
              "Guinea                       593\n",
              "Cote d'Ivoire                481\n",
              "Togo                         330\n",
              "Swaziland                    270\n",
              "Central African Republic     231\n",
              "Name: country, dtype: int64"
            ]
          },
          "metadata": {
            "tags": []
          },
          "execution_count": 9
        }
      ]
    },
    {
      "cell_type": "code",
      "metadata": {
        "colab": {
          "base_uri": "https://localhost:8080/"
        },
        "id": "jVeohpCzLhlx",
        "outputId": "821aaaab-28c6-4f88-c52e-f948f82b943b"
      },
      "source": [
        "#same in the test\n",
        "test.country.value_counts()"
      ],
      "execution_count": 10,
      "outputs": [
        {
          "output_type": "execute_result",
          "data": {
            "text/plain": [
              "Uganda                          1584\n",
              "Zimbabwe                        1189\n",
              "Zambia                          1038\n",
              "Burkina Faso                     997\n",
              "Angola                           855\n",
              "Democratic Republic of Congo     785\n",
              "Benin                            746\n",
              "Name: country, dtype: int64"
            ]
          },
          "metadata": {
            "tags": []
          },
          "execution_count": 10
        }
      ]
    },
    {
      "cell_type": "markdown",
      "metadata": {
        "id": "iQUgSG2pLozM"
      },
      "source": [
        "* Important finding: The countries in the test set are completely different from the countries in the train set. This kind of scenario will probably affect the test data as far as **generalization** is concern (the model will be unable to generalize well on unseen data).To over come this problem i build a customized train_test_split, which splits my train data , based on the feauture name **country**, i.e the model is trained on a given set of countries and validates on a country with which it hasn't been trained with. By so doing i search for the model with the smallest mean_square_error (the model that generalizes well on unseen data) and use it to do my prediction on the test set."
      ]
    },
    {
      "cell_type": "code",
      "metadata": {
        "id": "mh6LjBkfB0as"
      },
      "source": [
        "full = pd.concat([train,test]).reset_index()"
      ],
      "execution_count": 11,
      "outputs": []
    },
    {
      "cell_type": "code",
      "metadata": {
        "colab": {
          "base_uri": "https://localhost:8080/",
          "height": 222
        },
        "id": "lx_OfqDd35y1",
        "outputId": "d4b977b1-5653-415a-d307-877db7554158"
      },
      "source": [
        "full.head()"
      ],
      "execution_count": 12,
      "outputs": [
        {
          "output_type": "execute_result",
          "data": {
            "text/html": [
              "<div>\n",
              "<style scoped>\n",
              "    .dataframe tbody tr th:only-of-type {\n",
              "        vertical-align: middle;\n",
              "    }\n",
              "\n",
              "    .dataframe tbody tr th {\n",
              "        vertical-align: top;\n",
              "    }\n",
              "\n",
              "    .dataframe thead th {\n",
              "        text-align: right;\n",
              "    }\n",
              "</style>\n",
              "<table border=\"1\" class=\"dataframe\">\n",
              "  <thead>\n",
              "    <tr style=\"text-align: right;\">\n",
              "      <th></th>\n",
              "      <th>index</th>\n",
              "      <th>ID</th>\n",
              "      <th>country</th>\n",
              "      <th>year</th>\n",
              "      <th>urban_or_rural</th>\n",
              "      <th>ghsl_water_surface</th>\n",
              "      <th>ghsl_built_pre_1975</th>\n",
              "      <th>ghsl_built_1975_to_1990</th>\n",
              "      <th>ghsl_built_1990_to_2000</th>\n",
              "      <th>ghsl_built_2000_to_2014</th>\n",
              "      <th>ghsl_not_built_up</th>\n",
              "      <th>ghsl_pop_density</th>\n",
              "      <th>landcover_crops_fraction</th>\n",
              "      <th>landcover_urban_fraction</th>\n",
              "      <th>landcover_water_permanent_10km_fraction</th>\n",
              "      <th>landcover_water_seasonal_10km_fraction</th>\n",
              "      <th>nighttime_lights</th>\n",
              "      <th>dist_to_capital</th>\n",
              "      <th>dist_to_shoreline</th>\n",
              "      <th>Target</th>\n",
              "    </tr>\n",
              "  </thead>\n",
              "  <tbody>\n",
              "    <tr>\n",
              "      <th>0</th>\n",
              "      <td>0</td>\n",
              "      <td>ID_AAIethGy</td>\n",
              "      <td>Ethiopia</td>\n",
              "      <td>2016</td>\n",
              "      <td>R</td>\n",
              "      <td>0.0</td>\n",
              "      <td>0.000000</td>\n",
              "      <td>0.000000</td>\n",
              "      <td>0.000055</td>\n",
              "      <td>0.000536</td>\n",
              "      <td>0.999408</td>\n",
              "      <td>12.146134</td>\n",
              "      <td>25.489659</td>\n",
              "      <td>0.879484</td>\n",
              "      <td>0.000000</td>\n",
              "      <td>0.000000</td>\n",
              "      <td>0.000000</td>\n",
              "      <td>278.788451</td>\n",
              "      <td>769.338378</td>\n",
              "      <td>0.132783</td>\n",
              "    </tr>\n",
              "    <tr>\n",
              "      <th>1</th>\n",
              "      <td>1</td>\n",
              "      <td>ID_AAYiaCeL</td>\n",
              "      <td>Ethiopia</td>\n",
              "      <td>2005</td>\n",
              "      <td>R</td>\n",
              "      <td>0.0</td>\n",
              "      <td>0.000000</td>\n",
              "      <td>0.000110</td>\n",
              "      <td>0.000000</td>\n",
              "      <td>0.000018</td>\n",
              "      <td>0.999872</td>\n",
              "      <td>113.806716</td>\n",
              "      <td>64.136053</td>\n",
              "      <td>0.601427</td>\n",
              "      <td>0.000000</td>\n",
              "      <td>0.005427</td>\n",
              "      <td>0.000000</td>\n",
              "      <td>200.986978</td>\n",
              "      <td>337.135243</td>\n",
              "      <td>0.004898</td>\n",
              "    </tr>\n",
              "    <tr>\n",
              "      <th>2</th>\n",
              "      <td>2</td>\n",
              "      <td>ID_AAdurmKj</td>\n",
              "      <td>Mozambique</td>\n",
              "      <td>2009</td>\n",
              "      <td>R</td>\n",
              "      <td>0.0</td>\n",
              "      <td>0.000000</td>\n",
              "      <td>0.000000</td>\n",
              "      <td>0.000000</td>\n",
              "      <td>0.000000</td>\n",
              "      <td>1.000000</td>\n",
              "      <td>0.000000</td>\n",
              "      <td>4.400096</td>\n",
              "      <td>0.131900</td>\n",
              "      <td>0.000000</td>\n",
              "      <td>0.003078</td>\n",
              "      <td>0.000000</td>\n",
              "      <td>642.594208</td>\n",
              "      <td>169.913773</td>\n",
              "      <td>0.097320</td>\n",
              "    </tr>\n",
              "    <tr>\n",
              "      <th>3</th>\n",
              "      <td>3</td>\n",
              "      <td>ID_AAgNHles</td>\n",
              "      <td>Malawi</td>\n",
              "      <td>2015</td>\n",
              "      <td>R</td>\n",
              "      <td>0.0</td>\n",
              "      <td>0.000141</td>\n",
              "      <td>0.000181</td>\n",
              "      <td>0.000254</td>\n",
              "      <td>0.000228</td>\n",
              "      <td>0.999195</td>\n",
              "      <td>5.213320</td>\n",
              "      <td>25.379371</td>\n",
              "      <td>2.017136</td>\n",
              "      <td>11.293841</td>\n",
              "      <td>0.131035</td>\n",
              "      <td>0.000000</td>\n",
              "      <td>365.349451</td>\n",
              "      <td>613.591610</td>\n",
              "      <td>0.304107</td>\n",
              "    </tr>\n",
              "    <tr>\n",
              "      <th>4</th>\n",
              "      <td>4</td>\n",
              "      <td>ID_AAishfND</td>\n",
              "      <td>Guinea</td>\n",
              "      <td>2012</td>\n",
              "      <td>U</td>\n",
              "      <td>0.0</td>\n",
              "      <td>0.011649</td>\n",
              "      <td>0.017560</td>\n",
              "      <td>0.017383</td>\n",
              "      <td>0.099875</td>\n",
              "      <td>0.853533</td>\n",
              "      <td>31.734661</td>\n",
              "      <td>5.081620</td>\n",
              "      <td>22.815984</td>\n",
              "      <td>0.005047</td>\n",
              "      <td>0.130475</td>\n",
              "      <td>1.461894</td>\n",
              "      <td>222.867189</td>\n",
              "      <td>192.926363</td>\n",
              "      <td>0.605328</td>\n",
              "    </tr>\n",
              "  </tbody>\n",
              "</table>\n",
              "</div>"
            ],
            "text/plain": [
              "   index           ID     country  ...  dist_to_capital dist_to_shoreline    Target\n",
              "0      0  ID_AAIethGy    Ethiopia  ...       278.788451        769.338378  0.132783\n",
              "1      1  ID_AAYiaCeL    Ethiopia  ...       200.986978        337.135243  0.004898\n",
              "2      2  ID_AAdurmKj  Mozambique  ...       642.594208        169.913773  0.097320\n",
              "3      3  ID_AAgNHles      Malawi  ...       365.349451        613.591610  0.304107\n",
              "4      4  ID_AAishfND      Guinea  ...       222.867189        192.926363  0.605328\n",
              "\n",
              "[5 rows x 20 columns]"
            ]
          },
          "metadata": {
            "tags": []
          },
          "execution_count": 12
        }
      ]
    },
    {
      "cell_type": "code",
      "metadata": {
        "id": "UT9RnD7NFXxx"
      },
      "source": [
        "_country = pd.get_dummies(full['country'])"
      ],
      "execution_count": 13,
      "outputs": []
    },
    {
      "cell_type": "code",
      "metadata": {
        "id": "ielP5HDj1xYq"
      },
      "source": [
        "full = pd.concat([full.drop('country',axis=1),_country],axis=1)"
      ],
      "execution_count": 14,
      "outputs": []
    },
    {
      "cell_type": "code",
      "metadata": {
        "colab": {
          "base_uri": "https://localhost:8080/",
          "height": 255
        },
        "id": "zcvrpYFy2KJc",
        "outputId": "ef11c7d6-db0f-4290-bdd8-f0d2e45b5908"
      },
      "source": [
        "_country.head()"
      ],
      "execution_count": 15,
      "outputs": [
        {
          "output_type": "execute_result",
          "data": {
            "text/html": [
              "<div>\n",
              "<style scoped>\n",
              "    .dataframe tbody tr th:only-of-type {\n",
              "        vertical-align: middle;\n",
              "    }\n",
              "\n",
              "    .dataframe tbody tr th {\n",
              "        vertical-align: top;\n",
              "    }\n",
              "\n",
              "    .dataframe thead th {\n",
              "        text-align: right;\n",
              "    }\n",
              "</style>\n",
              "<table border=\"1\" class=\"dataframe\">\n",
              "  <thead>\n",
              "    <tr style=\"text-align: right;\">\n",
              "      <th></th>\n",
              "      <th>Angola</th>\n",
              "      <th>Benin</th>\n",
              "      <th>Burkina Faso</th>\n",
              "      <th>Cameroon</th>\n",
              "      <th>Central African Republic</th>\n",
              "      <th>Cote d'Ivoire</th>\n",
              "      <th>Democratic Republic of Congo</th>\n",
              "      <th>Ethiopia</th>\n",
              "      <th>Ghana</th>\n",
              "      <th>Guinea</th>\n",
              "      <th>Kenya</th>\n",
              "      <th>Lesotho</th>\n",
              "      <th>Malawi</th>\n",
              "      <th>Mali</th>\n",
              "      <th>Mozambique</th>\n",
              "      <th>Nigeria</th>\n",
              "      <th>Rwanda</th>\n",
              "      <th>Senegal</th>\n",
              "      <th>Sierra Leone</th>\n",
              "      <th>Swaziland</th>\n",
              "      <th>Tanzania</th>\n",
              "      <th>Togo</th>\n",
              "      <th>Uganda</th>\n",
              "      <th>Zambia</th>\n",
              "      <th>Zimbabwe</th>\n",
              "    </tr>\n",
              "  </thead>\n",
              "  <tbody>\n",
              "    <tr>\n",
              "      <th>0</th>\n",
              "      <td>0</td>\n",
              "      <td>0</td>\n",
              "      <td>0</td>\n",
              "      <td>0</td>\n",
              "      <td>0</td>\n",
              "      <td>0</td>\n",
              "      <td>0</td>\n",
              "      <td>1</td>\n",
              "      <td>0</td>\n",
              "      <td>0</td>\n",
              "      <td>0</td>\n",
              "      <td>0</td>\n",
              "      <td>0</td>\n",
              "      <td>0</td>\n",
              "      <td>0</td>\n",
              "      <td>0</td>\n",
              "      <td>0</td>\n",
              "      <td>0</td>\n",
              "      <td>0</td>\n",
              "      <td>0</td>\n",
              "      <td>0</td>\n",
              "      <td>0</td>\n",
              "      <td>0</td>\n",
              "      <td>0</td>\n",
              "      <td>0</td>\n",
              "    </tr>\n",
              "    <tr>\n",
              "      <th>1</th>\n",
              "      <td>0</td>\n",
              "      <td>0</td>\n",
              "      <td>0</td>\n",
              "      <td>0</td>\n",
              "      <td>0</td>\n",
              "      <td>0</td>\n",
              "      <td>0</td>\n",
              "      <td>1</td>\n",
              "      <td>0</td>\n",
              "      <td>0</td>\n",
              "      <td>0</td>\n",
              "      <td>0</td>\n",
              "      <td>0</td>\n",
              "      <td>0</td>\n",
              "      <td>0</td>\n",
              "      <td>0</td>\n",
              "      <td>0</td>\n",
              "      <td>0</td>\n",
              "      <td>0</td>\n",
              "      <td>0</td>\n",
              "      <td>0</td>\n",
              "      <td>0</td>\n",
              "      <td>0</td>\n",
              "      <td>0</td>\n",
              "      <td>0</td>\n",
              "    </tr>\n",
              "    <tr>\n",
              "      <th>2</th>\n",
              "      <td>0</td>\n",
              "      <td>0</td>\n",
              "      <td>0</td>\n",
              "      <td>0</td>\n",
              "      <td>0</td>\n",
              "      <td>0</td>\n",
              "      <td>0</td>\n",
              "      <td>0</td>\n",
              "      <td>0</td>\n",
              "      <td>0</td>\n",
              "      <td>0</td>\n",
              "      <td>0</td>\n",
              "      <td>0</td>\n",
              "      <td>0</td>\n",
              "      <td>1</td>\n",
              "      <td>0</td>\n",
              "      <td>0</td>\n",
              "      <td>0</td>\n",
              "      <td>0</td>\n",
              "      <td>0</td>\n",
              "      <td>0</td>\n",
              "      <td>0</td>\n",
              "      <td>0</td>\n",
              "      <td>0</td>\n",
              "      <td>0</td>\n",
              "    </tr>\n",
              "    <tr>\n",
              "      <th>3</th>\n",
              "      <td>0</td>\n",
              "      <td>0</td>\n",
              "      <td>0</td>\n",
              "      <td>0</td>\n",
              "      <td>0</td>\n",
              "      <td>0</td>\n",
              "      <td>0</td>\n",
              "      <td>0</td>\n",
              "      <td>0</td>\n",
              "      <td>0</td>\n",
              "      <td>0</td>\n",
              "      <td>0</td>\n",
              "      <td>1</td>\n",
              "      <td>0</td>\n",
              "      <td>0</td>\n",
              "      <td>0</td>\n",
              "      <td>0</td>\n",
              "      <td>0</td>\n",
              "      <td>0</td>\n",
              "      <td>0</td>\n",
              "      <td>0</td>\n",
              "      <td>0</td>\n",
              "      <td>0</td>\n",
              "      <td>0</td>\n",
              "      <td>0</td>\n",
              "    </tr>\n",
              "    <tr>\n",
              "      <th>4</th>\n",
              "      <td>0</td>\n",
              "      <td>0</td>\n",
              "      <td>0</td>\n",
              "      <td>0</td>\n",
              "      <td>0</td>\n",
              "      <td>0</td>\n",
              "      <td>0</td>\n",
              "      <td>0</td>\n",
              "      <td>0</td>\n",
              "      <td>1</td>\n",
              "      <td>0</td>\n",
              "      <td>0</td>\n",
              "      <td>0</td>\n",
              "      <td>0</td>\n",
              "      <td>0</td>\n",
              "      <td>0</td>\n",
              "      <td>0</td>\n",
              "      <td>0</td>\n",
              "      <td>0</td>\n",
              "      <td>0</td>\n",
              "      <td>0</td>\n",
              "      <td>0</td>\n",
              "      <td>0</td>\n",
              "      <td>0</td>\n",
              "      <td>0</td>\n",
              "    </tr>\n",
              "  </tbody>\n",
              "</table>\n",
              "</div>"
            ],
            "text/plain": [
              "   Angola  Benin  Burkina Faso  Cameroon  ...  Togo  Uganda  Zambia  Zimbabwe\n",
              "0       0      0             0         0  ...     0       0       0         0\n",
              "1       0      0             0         0  ...     0       0       0         0\n",
              "2       0      0             0         0  ...     0       0       0         0\n",
              "3       0      0             0         0  ...     0       0       0         0\n",
              "4       0      0             0         0  ...     0       0       0         0\n",
              "\n",
              "[5 rows x 25 columns]"
            ]
          },
          "metadata": {
            "tags": []
          },
          "execution_count": 15
        }
      ]
    },
    {
      "cell_type": "code",
      "metadata": {
        "colab": {
          "base_uri": "https://localhost:8080/",
          "height": 255
        },
        "id": "jdOIQKJA2g5b",
        "outputId": "ef34c1d0-131c-4d8f-a919-e500176eb4cb"
      },
      "source": [
        "full.head()"
      ],
      "execution_count": 16,
      "outputs": [
        {
          "output_type": "execute_result",
          "data": {
            "text/html": [
              "<div>\n",
              "<style scoped>\n",
              "    .dataframe tbody tr th:only-of-type {\n",
              "        vertical-align: middle;\n",
              "    }\n",
              "\n",
              "    .dataframe tbody tr th {\n",
              "        vertical-align: top;\n",
              "    }\n",
              "\n",
              "    .dataframe thead th {\n",
              "        text-align: right;\n",
              "    }\n",
              "</style>\n",
              "<table border=\"1\" class=\"dataframe\">\n",
              "  <thead>\n",
              "    <tr style=\"text-align: right;\">\n",
              "      <th></th>\n",
              "      <th>index</th>\n",
              "      <th>ID</th>\n",
              "      <th>year</th>\n",
              "      <th>urban_or_rural</th>\n",
              "      <th>ghsl_water_surface</th>\n",
              "      <th>ghsl_built_pre_1975</th>\n",
              "      <th>ghsl_built_1975_to_1990</th>\n",
              "      <th>ghsl_built_1990_to_2000</th>\n",
              "      <th>ghsl_built_2000_to_2014</th>\n",
              "      <th>ghsl_not_built_up</th>\n",
              "      <th>ghsl_pop_density</th>\n",
              "      <th>landcover_crops_fraction</th>\n",
              "      <th>landcover_urban_fraction</th>\n",
              "      <th>landcover_water_permanent_10km_fraction</th>\n",
              "      <th>landcover_water_seasonal_10km_fraction</th>\n",
              "      <th>nighttime_lights</th>\n",
              "      <th>dist_to_capital</th>\n",
              "      <th>dist_to_shoreline</th>\n",
              "      <th>Target</th>\n",
              "      <th>Angola</th>\n",
              "      <th>Benin</th>\n",
              "      <th>Burkina Faso</th>\n",
              "      <th>Cameroon</th>\n",
              "      <th>Central African Republic</th>\n",
              "      <th>Cote d'Ivoire</th>\n",
              "      <th>Democratic Republic of Congo</th>\n",
              "      <th>Ethiopia</th>\n",
              "      <th>Ghana</th>\n",
              "      <th>Guinea</th>\n",
              "      <th>Kenya</th>\n",
              "      <th>Lesotho</th>\n",
              "      <th>Malawi</th>\n",
              "      <th>Mali</th>\n",
              "      <th>Mozambique</th>\n",
              "      <th>Nigeria</th>\n",
              "      <th>Rwanda</th>\n",
              "      <th>Senegal</th>\n",
              "      <th>Sierra Leone</th>\n",
              "      <th>Swaziland</th>\n",
              "      <th>Tanzania</th>\n",
              "      <th>Togo</th>\n",
              "      <th>Uganda</th>\n",
              "      <th>Zambia</th>\n",
              "      <th>Zimbabwe</th>\n",
              "    </tr>\n",
              "  </thead>\n",
              "  <tbody>\n",
              "    <tr>\n",
              "      <th>0</th>\n",
              "      <td>0</td>\n",
              "      <td>ID_AAIethGy</td>\n",
              "      <td>2016</td>\n",
              "      <td>R</td>\n",
              "      <td>0.0</td>\n",
              "      <td>0.000000</td>\n",
              "      <td>0.000000</td>\n",
              "      <td>0.000055</td>\n",
              "      <td>0.000536</td>\n",
              "      <td>0.999408</td>\n",
              "      <td>12.146134</td>\n",
              "      <td>25.489659</td>\n",
              "      <td>0.879484</td>\n",
              "      <td>0.000000</td>\n",
              "      <td>0.000000</td>\n",
              "      <td>0.000000</td>\n",
              "      <td>278.788451</td>\n",
              "      <td>769.338378</td>\n",
              "      <td>0.132783</td>\n",
              "      <td>0</td>\n",
              "      <td>0</td>\n",
              "      <td>0</td>\n",
              "      <td>0</td>\n",
              "      <td>0</td>\n",
              "      <td>0</td>\n",
              "      <td>0</td>\n",
              "      <td>1</td>\n",
              "      <td>0</td>\n",
              "      <td>0</td>\n",
              "      <td>0</td>\n",
              "      <td>0</td>\n",
              "      <td>0</td>\n",
              "      <td>0</td>\n",
              "      <td>0</td>\n",
              "      <td>0</td>\n",
              "      <td>0</td>\n",
              "      <td>0</td>\n",
              "      <td>0</td>\n",
              "      <td>0</td>\n",
              "      <td>0</td>\n",
              "      <td>0</td>\n",
              "      <td>0</td>\n",
              "      <td>0</td>\n",
              "      <td>0</td>\n",
              "    </tr>\n",
              "    <tr>\n",
              "      <th>1</th>\n",
              "      <td>1</td>\n",
              "      <td>ID_AAYiaCeL</td>\n",
              "      <td>2005</td>\n",
              "      <td>R</td>\n",
              "      <td>0.0</td>\n",
              "      <td>0.000000</td>\n",
              "      <td>0.000110</td>\n",
              "      <td>0.000000</td>\n",
              "      <td>0.000018</td>\n",
              "      <td>0.999872</td>\n",
              "      <td>113.806716</td>\n",
              "      <td>64.136053</td>\n",
              "      <td>0.601427</td>\n",
              "      <td>0.000000</td>\n",
              "      <td>0.005427</td>\n",
              "      <td>0.000000</td>\n",
              "      <td>200.986978</td>\n",
              "      <td>337.135243</td>\n",
              "      <td>0.004898</td>\n",
              "      <td>0</td>\n",
              "      <td>0</td>\n",
              "      <td>0</td>\n",
              "      <td>0</td>\n",
              "      <td>0</td>\n",
              "      <td>0</td>\n",
              "      <td>0</td>\n",
              "      <td>1</td>\n",
              "      <td>0</td>\n",
              "      <td>0</td>\n",
              "      <td>0</td>\n",
              "      <td>0</td>\n",
              "      <td>0</td>\n",
              "      <td>0</td>\n",
              "      <td>0</td>\n",
              "      <td>0</td>\n",
              "      <td>0</td>\n",
              "      <td>0</td>\n",
              "      <td>0</td>\n",
              "      <td>0</td>\n",
              "      <td>0</td>\n",
              "      <td>0</td>\n",
              "      <td>0</td>\n",
              "      <td>0</td>\n",
              "      <td>0</td>\n",
              "    </tr>\n",
              "    <tr>\n",
              "      <th>2</th>\n",
              "      <td>2</td>\n",
              "      <td>ID_AAdurmKj</td>\n",
              "      <td>2009</td>\n",
              "      <td>R</td>\n",
              "      <td>0.0</td>\n",
              "      <td>0.000000</td>\n",
              "      <td>0.000000</td>\n",
              "      <td>0.000000</td>\n",
              "      <td>0.000000</td>\n",
              "      <td>1.000000</td>\n",
              "      <td>0.000000</td>\n",
              "      <td>4.400096</td>\n",
              "      <td>0.131900</td>\n",
              "      <td>0.000000</td>\n",
              "      <td>0.003078</td>\n",
              "      <td>0.000000</td>\n",
              "      <td>642.594208</td>\n",
              "      <td>169.913773</td>\n",
              "      <td>0.097320</td>\n",
              "      <td>0</td>\n",
              "      <td>0</td>\n",
              "      <td>0</td>\n",
              "      <td>0</td>\n",
              "      <td>0</td>\n",
              "      <td>0</td>\n",
              "      <td>0</td>\n",
              "      <td>0</td>\n",
              "      <td>0</td>\n",
              "      <td>0</td>\n",
              "      <td>0</td>\n",
              "      <td>0</td>\n",
              "      <td>0</td>\n",
              "      <td>0</td>\n",
              "      <td>1</td>\n",
              "      <td>0</td>\n",
              "      <td>0</td>\n",
              "      <td>0</td>\n",
              "      <td>0</td>\n",
              "      <td>0</td>\n",
              "      <td>0</td>\n",
              "      <td>0</td>\n",
              "      <td>0</td>\n",
              "      <td>0</td>\n",
              "      <td>0</td>\n",
              "    </tr>\n",
              "    <tr>\n",
              "      <th>3</th>\n",
              "      <td>3</td>\n",
              "      <td>ID_AAgNHles</td>\n",
              "      <td>2015</td>\n",
              "      <td>R</td>\n",
              "      <td>0.0</td>\n",
              "      <td>0.000141</td>\n",
              "      <td>0.000181</td>\n",
              "      <td>0.000254</td>\n",
              "      <td>0.000228</td>\n",
              "      <td>0.999195</td>\n",
              "      <td>5.213320</td>\n",
              "      <td>25.379371</td>\n",
              "      <td>2.017136</td>\n",
              "      <td>11.293841</td>\n",
              "      <td>0.131035</td>\n",
              "      <td>0.000000</td>\n",
              "      <td>365.349451</td>\n",
              "      <td>613.591610</td>\n",
              "      <td>0.304107</td>\n",
              "      <td>0</td>\n",
              "      <td>0</td>\n",
              "      <td>0</td>\n",
              "      <td>0</td>\n",
              "      <td>0</td>\n",
              "      <td>0</td>\n",
              "      <td>0</td>\n",
              "      <td>0</td>\n",
              "      <td>0</td>\n",
              "      <td>0</td>\n",
              "      <td>0</td>\n",
              "      <td>0</td>\n",
              "      <td>1</td>\n",
              "      <td>0</td>\n",
              "      <td>0</td>\n",
              "      <td>0</td>\n",
              "      <td>0</td>\n",
              "      <td>0</td>\n",
              "      <td>0</td>\n",
              "      <td>0</td>\n",
              "      <td>0</td>\n",
              "      <td>0</td>\n",
              "      <td>0</td>\n",
              "      <td>0</td>\n",
              "      <td>0</td>\n",
              "    </tr>\n",
              "    <tr>\n",
              "      <th>4</th>\n",
              "      <td>4</td>\n",
              "      <td>ID_AAishfND</td>\n",
              "      <td>2012</td>\n",
              "      <td>U</td>\n",
              "      <td>0.0</td>\n",
              "      <td>0.011649</td>\n",
              "      <td>0.017560</td>\n",
              "      <td>0.017383</td>\n",
              "      <td>0.099875</td>\n",
              "      <td>0.853533</td>\n",
              "      <td>31.734661</td>\n",
              "      <td>5.081620</td>\n",
              "      <td>22.815984</td>\n",
              "      <td>0.005047</td>\n",
              "      <td>0.130475</td>\n",
              "      <td>1.461894</td>\n",
              "      <td>222.867189</td>\n",
              "      <td>192.926363</td>\n",
              "      <td>0.605328</td>\n",
              "      <td>0</td>\n",
              "      <td>0</td>\n",
              "      <td>0</td>\n",
              "      <td>0</td>\n",
              "      <td>0</td>\n",
              "      <td>0</td>\n",
              "      <td>0</td>\n",
              "      <td>0</td>\n",
              "      <td>0</td>\n",
              "      <td>1</td>\n",
              "      <td>0</td>\n",
              "      <td>0</td>\n",
              "      <td>0</td>\n",
              "      <td>0</td>\n",
              "      <td>0</td>\n",
              "      <td>0</td>\n",
              "      <td>0</td>\n",
              "      <td>0</td>\n",
              "      <td>0</td>\n",
              "      <td>0</td>\n",
              "      <td>0</td>\n",
              "      <td>0</td>\n",
              "      <td>0</td>\n",
              "      <td>0</td>\n",
              "      <td>0</td>\n",
              "    </tr>\n",
              "  </tbody>\n",
              "</table>\n",
              "</div>"
            ],
            "text/plain": [
              "   index           ID  year urban_or_rural  ...  Togo  Uganda  Zambia  Zimbabwe\n",
              "0      0  ID_AAIethGy  2016              R  ...     0       0       0         0\n",
              "1      1  ID_AAYiaCeL  2005              R  ...     0       0       0         0\n",
              "2      2  ID_AAdurmKj  2009              R  ...     0       0       0         0\n",
              "3      3  ID_AAgNHles  2015              R  ...     0       0       0         0\n",
              "4      4  ID_AAishfND  2012              U  ...     0       0       0         0\n",
              "\n",
              "[5 rows x 44 columns]"
            ]
          },
          "metadata": {
            "tags": []
          },
          "execution_count": 16
        }
      ]
    },
    {
      "cell_type": "markdown",
      "metadata": {
        "id": "o3p36bzSPdh0"
      },
      "source": [
        "### Feature Engineering and data Preprocessing"
      ]
    },
    {
      "cell_type": "markdown",
      "metadata": {
        "id": "DHgaRAM3J4CS"
      },
      "source": [
        "* Important finding: Trying to categorize continuous variable really improve the model. Despite the fact that i couldn't create indicator function for certain abnormalities(patterns that i think to be abnormal), it is possible to quantify some continuous variable based on ranges of values. \n",
        "* Example i created a feature that characterize the population density interms of **small size, medium size, big and very big size** it gives more meaning to the actual values found in the ghsl_pop_density column. \n",
        "\n",
        "* I did thesame for the distance to capital, which is also a good indicator of the wealth index."
      ]
    },
    {
      "cell_type": "code",
      "metadata": {
        "collapsed": true,
        "id": "6rnEThRCyXIQ"
      },
      "source": [
        "# the function below takes \n",
        "\"\"\"input____:\n",
        "name of data set:data\n",
        "the column you want to categorize: a\n",
        "the name of the newly created feature: b\n",
        "output____:\n",
        "a newly created column with categorical values, interms of size and base on the percentile of the feature\n",
        "you want to caategorize\"\"\"\n",
        "def group(data,a,b):\n",
        "  data[b]='none'\n",
        "  for i,j in enumerate(data[a]):\n",
        "    if j>= np.min(data[a]) and j < np.percentile(data[a],25):\n",
        "      data.loc[i,b]='small'\n",
        "    elif j>= np.percentile(data[a],25) and j< np.percentile(data[a],50):\n",
        "      data.loc[i,b]='medium'\n",
        "    elif j>=np.percentile(data[a],50) and j< np.percentile(data[a],75):\n",
        "      data.loc[i,b]='big'\n",
        "    elif j>= np.percentile(data[a],75):\n",
        "      data.loc[i,b]='very_big'\n",
        "  return data"
      ],
      "execution_count": 17,
      "outputs": []
    },
    {
      "cell_type": "code",
      "metadata": {
        "collapsed": true,
        "id": "6W49_0SoQ85y"
      },
      "source": [
        "#creating categorical variable for the feature dist_to_capital\n",
        "full=group(full,'dist_to_capital','dist')\n",
        "#train=group(train,'dist_to_capital','dist')"
      ],
      "execution_count": 18,
      "outputs": []
    },
    {
      "cell_type": "code",
      "metadata": {
        "collapsed": true,
        "id": "YGm30cuyNCZu"
      },
      "source": [
        "#creating categorical variable for the population density\n",
        "full=group(full,'ghsl_pop_density','pop_size')\n",
        "#train=group(train,'ghsl_pop_density','pop_size')"
      ],
      "execution_count": 19,
      "outputs": []
    },
    {
      "cell_type": "code",
      "metadata": {
        "id": "NNUkRCJO3Dxe"
      },
      "source": [
        "#creating categorical variable for the population density\n",
        "full=group(full,'nighttime_lights','night_size')\n",
        "#train=group(train,'ghsl_pop_density','pop_size')"
      ],
      "execution_count": 20,
      "outputs": []
    },
    {
      "cell_type": "markdown",
      "metadata": {
        "id": "nM9DMCavQjJY"
      },
      "source": [
        "The two features created below was based on the splitting of my train data, using the customized function built to do so. The minimum error obtain after training my model with each splits (one split containing 17 countries and the last split containing the last country, i did so manually for all the 18 countries in the train set), reveals that, the country **Guinea** has the smallest mean square error, predicting the wealth index using this model will probably have a good generalization perfomance."
      ]
    },
    {
      "cell_type": "code",
      "metadata": {
        "collapsed": true,
        "id": "yTu1F84vYIAK"
      },
      "source": [
        "#the mean square error for country Kenya is 0.016115087928056746\n",
        "#the mean square error for country Nigeria is 0.04404187886936057\n",
        "#the mean square error for country Tanzania is 0.012639512026332969\n",
        "#the mean square error for country Malawi is 0.01059467702900494\n",
        "#the mean square error for country Ethiopia is 0.00926243755596883\n",
        "#the mean square error for country Ghana is 0.019099523614234493\n",
        "#the mean square error for country Mali is 0.010061246293276543\n",
        "#the mean square error for country Cameroon is 0.009041880250884263\n",
        "#the mean square error for country Rwanda is 0.00968488508539336\n",
        "#the mean square error for country Senegal is 0.02888667326733214\n",
        "#the mean square error for country Mozambique is 0.015774485558534893\n",
        "#the mean square error for country Lesotho is 0.015923862512533117\n",
        "#the mean square error for country Sierra Leone is 0.011198435721676813\n",
        "#the mean square error for country Guinea is 0.008128704740007606\n",
        "#the mean square error for country Cote d'Ivoire is 0.03506951538358788\n",
        "#the mean square error for country Togo is 0.018535950450297024\n",
        "#the mean square error for country Swaziland is 0.05061226689827493\n",
        "#the mean square error for country Central African Republic is 0.0365024889587078"
      ],
      "execution_count": 21,
      "outputs": []
    },
    {
      "cell_type": "code",
      "metadata": {
        "collapsed": true,
        "id": "uNF95YzbYIAB"
      },
      "source": [
        "#I Created this feature based on the distribution of the country Guinea, i wanted the dataset to have \n",
        "# a kind of similar distribution with that of guinea the reason been that if Guinea reveals the smallest\n",
        "#mean square error, then if my train data looks similar to it, the overall mean square error will also decrease\n",
        "# and it actually decreased.\n",
        "full[\"capital_n\"]=0\n",
        "#test[\"capital_n\"]=0\n",
        "def create_features(data):\n",
        "    for i,j in enumerate(data[\"dist_to_capital\"]):\n",
        "        if j<1.038623: # this value is the smallest distance to capital of Guinea\n",
        "            data.loc[i,\"capital_n\"]=1\n",
        "    return data"
      ],
      "execution_count": 22,
      "outputs": []
    },
    {
      "cell_type": "code",
      "metadata": {
        "id": "XRPRD_bFCYkC"
      },
      "source": [
        "#full['lands']=full['ghsl_built_pre_1975']+full['ghsl_built_1975_to_1990']+full['ghsl_built_1990_to_2000']+full['ghsl_built_2000_to_2014']"
      ],
      "execution_count": 23,
      "outputs": []
    },
    {
      "cell_type": "markdown",
      "metadata": {
        "id": "I3B3xnuv8Dy_"
      },
      "source": [
        "Looking at the **Corpernicus** global landcover with water layers,(and also from some research papers) i realised that regions with permanent land water and temporal land water turn to have good yiels of crops production(that will surely lead to a good wealth index). But in an attempt to bring out a relationship between **landcover_crop_fraction** and **landcover_water_permanent/seasonal**, the error increased tremendously. So i decided to limit my self on creating **seasonality** indicator for the landcover water seasonal feature. Clusters with landcover water seasonal=0, are probably in the dry season, and regions with seasonal water different from 0 are surely in the rainy seasons. The later have more access to water and will probably have good crop yields.\n",
        "\n",
        "Again this feature improved my position on the leaderboard"
      ]
    },
    {
      "cell_type": "code",
      "metadata": {
        "collapsed": true,
        "id": "vDgxlX0oPLvK"
      },
      "source": [
        "#Creating seasonality feature\n",
        "full[\"seasons\"]=0\n",
        "#test[\"seasons\"]=0\n",
        "def seasonality(data):\n",
        "    for i,j in enumerate(data[\"landcover_water_seasonal_10km_fraction\"]):\n",
        "        if j==0:\n",
        "          data.loc[i,\"seasons\"]=1 #dry seasons areas\n",
        "    return data"
      ],
      "execution_count": 24,
      "outputs": []
    },
    {
      "cell_type": "markdown",
      "metadata": {
        "id": "QuMcXWDe3OJP"
      },
      "source": [
        "*  Next, i looked around checking the population global settlement, built-up lands before 1975 to 2014 (ghsl_pre_1975 to ghsl_2000_to_2014). Normaly the proportion of land not built up is equal to $1-total ~~proportion~~of~~land~~built$. But again there were some abnormalities in the data"
      ]
    },
    {
      "cell_type": "code",
      "metadata": {
        "collapsed": true,
        "id": "DuNsG-zl5Ssv"
      },
      "source": [
        "# summing all the proportion of lands (built and not built), should give us one normally\n",
        "#train['check_proportion']=train['ghsl_built_pre_1975']+train['ghsl_built_1975_to_1990']+train['ghsl_built_1990_to_2000']+train['ghsl_built_2000_to_2014']+train['ghsl_not_built_up']\n",
        "#len(train[train.check_proportion!=1])"
      ],
      "execution_count": 25,
      "outputs": []
    },
    {
      "cell_type": "markdown",
      "metadata": {
        "id": "bM2Kvphx7NUq"
      },
      "source": [
        "We have exactly **12975** clusters presenting that abnormality, again i created an indicator variable for that, and it really reduced the error on the leaderboard"
      ]
    },
    {
      "cell_type": "code",
      "metadata": {
        "collapsed": true,
        "id": "J7SJf_b-YIAB"
      },
      "source": [
        "#Checking for proportionality in distribution of land built layers\n",
        "full[\"abnormal_built_proportion\"]=0\n",
        "#test[\"abnormal_built_proportion\"]=0\n",
        "def abnormal_built(data):\n",
        "  for i,j in enumerate(data):\n",
        "    if data.loc[i,'ghsl_not_built_up']+data.loc[i,'ghsl_built_pre_1975']+data.loc[i,'ghsl_built_2000_to_2014']+data.loc[i,'ghsl_built_1990_to_2000']+data.loc[i,'ghsl_built_1975_to_1990']!=1:\n",
        "      data.loc[i,'abnormal_built_proportion']=1\n",
        "  return data"
      ],
      "execution_count": 26,
      "outputs": []
    },
    {
      "cell_type": "code",
      "metadata": {
        "collapsed": true,
        "id": "kdQcPpLnYIAB"
      },
      "source": [
        "#create a variable for the year 2012 and 1999 according to the distribution of Guinea\n",
        "full[\"year_n\"]=0\n",
        "#test[\"year_n\"]=0\n",
        "def year(data):\n",
        "    for i,j in enumerate(data[\"year\"]):\n",
        "        if j==2012 or j==1999: # this are the two different years for which informations for the clusters in Guinea were collected\n",
        "            data.loc[i,\"year_n\"]=1\n",
        "    return data"
      ],
      "execution_count": 27,
      "outputs": []
    },
    {
      "cell_type": "markdown",
      "metadata": {
        "id": "I5Lfz4MjMbMa"
      },
      "source": [
        "Again, using the corpenicus global landcover layers we realize whenever there is global settlement, the ratio of previous/impervious land increases with time (pervious lands could be urban areas and impervious could be rural urban), meaning that the proportion urban areas could probably increase as time goes on.\n",
        "\n",
        "* With this finding i classified the lands based on their **built_year** if a land is built below year 2000, the land is probably impervious (at this period) and from year 2000 and above the land becomes more and more pervious\n",
        "\n",
        "This finding slightly reduce the error in the leaderboard."
      ]
    },
    {
      "cell_type": "code",
      "metadata": {
        "collapsed": true,
        "id": "NW2H2zSBDg02"
      },
      "source": [
        "full['built_year']=0\n",
        "#test['built_year']=0\n",
        "def building_year(data):\n",
        "  for i,j in enumerate(data[\"year\"]):\n",
        "    if j<2000:\n",
        "      data.loc[i,'built_year']=1\n",
        "  return data"
      ],
      "execution_count": 28,
      "outputs": []
    },
    {
      "cell_type": "markdown",
      "metadata": {
        "id": "nOmqkN7yzkG8"
      },
      "source": [
        "* The nighttime_light: I started by checking if there exist some clusters where there could be nighttime light intensity, without a **human settlement(population density)** or again human settlement without any nighttime light. The reason throught this is because, if there is human settlement in a given region, there should surely be a little amount of nighttime economic activities, and also regions with no human settlements are likely not to have economic nighttime economic activities(they could be forest,mountains...)"
      ]
    },
    {
      "cell_type": "code",
      "metadata": {
        "colab": {
          "base_uri": "https://localhost:8080/"
        },
        "id": "5uLIDG-U1Cvx",
        "outputId": "11e1ea4c-9e2e-4f58-fb08-ddc0cd15e2d7"
      },
      "source": [
        "#checking existence of regions of nighttime light with no human settlement and vice-versa\n",
        "len(train[((train.ghsl_pop_density ==0)&(train.nighttime_lights!=0))|((train.ghsl_pop_density !=0)&(train.nighttime_lights==0))])"
      ],
      "execution_count": 29,
      "outputs": [
        {
          "output_type": "execute_result",
          "data": {
            "text/plain": [
              "8893"
            ]
          },
          "metadata": {
            "tags": []
          },
          "execution_count": 29
        }
      ]
    },
    {
      "cell_type": "markdown",
      "metadata": {
        "id": "ZO1BmC8l1zwa"
      },
      "source": [
        "* There exist around **8893** clusters, fufilling the condition above, so we start by creating an empty column named **abnormal_light** and fill them with zeros, then the clusters(index) which fullfill the condition, we replace the zero by one. This newly created feature turned to reduce the error in the public leader board."
      ]
    },
    {
      "cell_type": "code",
      "metadata": {
        "collapsed": true,
        "id": "OYFdNJyHYIAC"
      },
      "source": [
        "#creating the function for abnormal nighttime light intensity\n",
        "full[\"abnormal_light\"]=0\n",
        "#test['abnormal_light']=0\n",
        "def abnormal_light(data):\n",
        "    for i,j in enumerate(data[((data.ghsl_pop_density ==0)&(data.nighttime_lights!=0))|((data.ghsl_pop_density !=0)&(data.nighttime_lights==0))]):\n",
        "        data.loc[i,\"abnormal_light\"]=1\n",
        "    return data"
      ],
      "execution_count": 30,
      "outputs": []
    },
    {
      "cell_type": "code",
      "metadata": {
        "id": "l12vE1HfcbcQ"
      },
      "source": [
        "#people with no water access nor light are probably poor\n",
        "full[\"poor\"]=0\n",
        "def poor(data):\n",
        "  for i,j in enumerate(data[(data.nighttime_lights==0)&(data.landcover_water_permanent_10km_fraction==0)]):\n",
        "    data.loc[i,\"poor\"]=1\n",
        "  return data"
      ],
      "execution_count": 31,
      "outputs": []
    },
    {
      "cell_type": "code",
      "metadata": {
        "id": "HKl0AK1f9Xku"
      },
      "source": [
        "#code water access\n",
        "full['water_access']=full['landcover_water_seasonal_10km_fraction']+full['landcover_water_permanent_10km_fraction']+full['ghsl_water_surface']"
      ],
      "execution_count": 32,
      "outputs": []
    },
    {
      "cell_type": "code",
      "metadata": {
        "collapsed": true,
        "id": "EhsVYNFGYIAF"
      },
      "source": [
        "#feauture for guinea distribution\n",
        "full=create_features(full)\n",
        "#test=create_features(test)\n",
        "# feature for the year of collection of \n",
        "#information for Guinea\n",
        "full=year(full)\n",
        "#test=year(test)\n",
        "# Fitting the abnormal light feature\n",
        "full=abnormal_light(full)\n",
        "#test=abnormal_light(test)\n",
        "##features about the abnormally built up lands\n",
        "full=abnormal_built(full)\n",
        "#test=abnormal_built(test)\n",
        "#features about pervious/impervious lands\n",
        "full=building_year(full)\n",
        "#test=building_year(test)\n",
        "#features about water seasonality\n",
        "full=seasonality(full)\n",
        "#test=seasonality(test)\n",
        "full=poor(full)"
      ],
      "execution_count": 33,
      "outputs": []
    },
    {
      "cell_type": "code",
      "metadata": {
        "id": "ZRIoIvwy9TbE"
      },
      "source": [
        "# Slicing the Values back\n",
        "train= full[:train.shape[0]]\n",
        "\n",
        "test= full[train.shape[0]:]"
      ],
      "execution_count": 34,
      "outputs": []
    },
    {
      "cell_type": "code",
      "metadata": {
        "colab": {
          "base_uri": "https://localhost:8080/",
          "height": 255
        },
        "id": "flCuiQG6sUEo",
        "outputId": "ed1bc78a-eab2-4364-b7d3-e48b36e26881"
      },
      "source": [
        "train.head()"
      ],
      "execution_count": 35,
      "outputs": [
        {
          "output_type": "execute_result",
          "data": {
            "text/html": [
              "<div>\n",
              "<style scoped>\n",
              "    .dataframe tbody tr th:only-of-type {\n",
              "        vertical-align: middle;\n",
              "    }\n",
              "\n",
              "    .dataframe tbody tr th {\n",
              "        vertical-align: top;\n",
              "    }\n",
              "\n",
              "    .dataframe thead th {\n",
              "        text-align: right;\n",
              "    }\n",
              "</style>\n",
              "<table border=\"1\" class=\"dataframe\">\n",
              "  <thead>\n",
              "    <tr style=\"text-align: right;\">\n",
              "      <th></th>\n",
              "      <th>index</th>\n",
              "      <th>ID</th>\n",
              "      <th>year</th>\n",
              "      <th>urban_or_rural</th>\n",
              "      <th>ghsl_water_surface</th>\n",
              "      <th>ghsl_built_pre_1975</th>\n",
              "      <th>ghsl_built_1975_to_1990</th>\n",
              "      <th>ghsl_built_1990_to_2000</th>\n",
              "      <th>ghsl_built_2000_to_2014</th>\n",
              "      <th>ghsl_not_built_up</th>\n",
              "      <th>ghsl_pop_density</th>\n",
              "      <th>landcover_crops_fraction</th>\n",
              "      <th>landcover_urban_fraction</th>\n",
              "      <th>landcover_water_permanent_10km_fraction</th>\n",
              "      <th>landcover_water_seasonal_10km_fraction</th>\n",
              "      <th>nighttime_lights</th>\n",
              "      <th>dist_to_capital</th>\n",
              "      <th>dist_to_shoreline</th>\n",
              "      <th>Target</th>\n",
              "      <th>Angola</th>\n",
              "      <th>Benin</th>\n",
              "      <th>Burkina Faso</th>\n",
              "      <th>Cameroon</th>\n",
              "      <th>Central African Republic</th>\n",
              "      <th>Cote d'Ivoire</th>\n",
              "      <th>Democratic Republic of Congo</th>\n",
              "      <th>Ethiopia</th>\n",
              "      <th>Ghana</th>\n",
              "      <th>Guinea</th>\n",
              "      <th>Kenya</th>\n",
              "      <th>Lesotho</th>\n",
              "      <th>Malawi</th>\n",
              "      <th>Mali</th>\n",
              "      <th>Mozambique</th>\n",
              "      <th>Nigeria</th>\n",
              "      <th>Rwanda</th>\n",
              "      <th>Senegal</th>\n",
              "      <th>Sierra Leone</th>\n",
              "      <th>Swaziland</th>\n",
              "      <th>Tanzania</th>\n",
              "      <th>Togo</th>\n",
              "      <th>Uganda</th>\n",
              "      <th>Zambia</th>\n",
              "      <th>Zimbabwe</th>\n",
              "      <th>dist</th>\n",
              "      <th>pop_size</th>\n",
              "      <th>night_size</th>\n",
              "      <th>capital_n</th>\n",
              "      <th>seasons</th>\n",
              "      <th>abnormal_built_proportion</th>\n",
              "      <th>year_n</th>\n",
              "      <th>built_year</th>\n",
              "      <th>abnormal_light</th>\n",
              "      <th>poor</th>\n",
              "      <th>water_access</th>\n",
              "    </tr>\n",
              "  </thead>\n",
              "  <tbody>\n",
              "    <tr>\n",
              "      <th>0</th>\n",
              "      <td>0</td>\n",
              "      <td>ID_AAIethGy</td>\n",
              "      <td>2016</td>\n",
              "      <td>R</td>\n",
              "      <td>0.0</td>\n",
              "      <td>0.000000</td>\n",
              "      <td>0.000000</td>\n",
              "      <td>0.000055</td>\n",
              "      <td>0.000536</td>\n",
              "      <td>0.999408</td>\n",
              "      <td>12.146134</td>\n",
              "      <td>25.489659</td>\n",
              "      <td>0.879484</td>\n",
              "      <td>0.000000</td>\n",
              "      <td>0.000000</td>\n",
              "      <td>0.000000</td>\n",
              "      <td>278.788451</td>\n",
              "      <td>769.338378</td>\n",
              "      <td>0.132783</td>\n",
              "      <td>0</td>\n",
              "      <td>0</td>\n",
              "      <td>0</td>\n",
              "      <td>0</td>\n",
              "      <td>0</td>\n",
              "      <td>0</td>\n",
              "      <td>0</td>\n",
              "      <td>1</td>\n",
              "      <td>0</td>\n",
              "      <td>0</td>\n",
              "      <td>0</td>\n",
              "      <td>0</td>\n",
              "      <td>0</td>\n",
              "      <td>0</td>\n",
              "      <td>0</td>\n",
              "      <td>0</td>\n",
              "      <td>0</td>\n",
              "      <td>0</td>\n",
              "      <td>0</td>\n",
              "      <td>0</td>\n",
              "      <td>0</td>\n",
              "      <td>0</td>\n",
              "      <td>0</td>\n",
              "      <td>0</td>\n",
              "      <td>0</td>\n",
              "      <td>big</td>\n",
              "      <td>medium</td>\n",
              "      <td>medium</td>\n",
              "      <td>0</td>\n",
              "      <td>1</td>\n",
              "      <td>1</td>\n",
              "      <td>0</td>\n",
              "      <td>0</td>\n",
              "      <td>1</td>\n",
              "      <td>1</td>\n",
              "      <td>0.000000</td>\n",
              "    </tr>\n",
              "    <tr>\n",
              "      <th>1</th>\n",
              "      <td>1</td>\n",
              "      <td>ID_AAYiaCeL</td>\n",
              "      <td>2005</td>\n",
              "      <td>R</td>\n",
              "      <td>0.0</td>\n",
              "      <td>0.000000</td>\n",
              "      <td>0.000110</td>\n",
              "      <td>0.000000</td>\n",
              "      <td>0.000018</td>\n",
              "      <td>0.999872</td>\n",
              "      <td>113.806716</td>\n",
              "      <td>64.136053</td>\n",
              "      <td>0.601427</td>\n",
              "      <td>0.000000</td>\n",
              "      <td>0.005427</td>\n",
              "      <td>0.000000</td>\n",
              "      <td>200.986978</td>\n",
              "      <td>337.135243</td>\n",
              "      <td>0.004898</td>\n",
              "      <td>0</td>\n",
              "      <td>0</td>\n",
              "      <td>0</td>\n",
              "      <td>0</td>\n",
              "      <td>0</td>\n",
              "      <td>0</td>\n",
              "      <td>0</td>\n",
              "      <td>1</td>\n",
              "      <td>0</td>\n",
              "      <td>0</td>\n",
              "      <td>0</td>\n",
              "      <td>0</td>\n",
              "      <td>0</td>\n",
              "      <td>0</td>\n",
              "      <td>0</td>\n",
              "      <td>0</td>\n",
              "      <td>0</td>\n",
              "      <td>0</td>\n",
              "      <td>0</td>\n",
              "      <td>0</td>\n",
              "      <td>0</td>\n",
              "      <td>0</td>\n",
              "      <td>0</td>\n",
              "      <td>0</td>\n",
              "      <td>0</td>\n",
              "      <td>medium</td>\n",
              "      <td>very_big</td>\n",
              "      <td>medium</td>\n",
              "      <td>0</td>\n",
              "      <td>0</td>\n",
              "      <td>0</td>\n",
              "      <td>0</td>\n",
              "      <td>0</td>\n",
              "      <td>1</td>\n",
              "      <td>1</td>\n",
              "      <td>0.005427</td>\n",
              "    </tr>\n",
              "    <tr>\n",
              "      <th>2</th>\n",
              "      <td>2</td>\n",
              "      <td>ID_AAdurmKj</td>\n",
              "      <td>2009</td>\n",
              "      <td>R</td>\n",
              "      <td>0.0</td>\n",
              "      <td>0.000000</td>\n",
              "      <td>0.000000</td>\n",
              "      <td>0.000000</td>\n",
              "      <td>0.000000</td>\n",
              "      <td>1.000000</td>\n",
              "      <td>0.000000</td>\n",
              "      <td>4.400096</td>\n",
              "      <td>0.131900</td>\n",
              "      <td>0.000000</td>\n",
              "      <td>0.003078</td>\n",
              "      <td>0.000000</td>\n",
              "      <td>642.594208</td>\n",
              "      <td>169.913773</td>\n",
              "      <td>0.097320</td>\n",
              "      <td>0</td>\n",
              "      <td>0</td>\n",
              "      <td>0</td>\n",
              "      <td>0</td>\n",
              "      <td>0</td>\n",
              "      <td>0</td>\n",
              "      <td>0</td>\n",
              "      <td>0</td>\n",
              "      <td>0</td>\n",
              "      <td>0</td>\n",
              "      <td>0</td>\n",
              "      <td>0</td>\n",
              "      <td>0</td>\n",
              "      <td>0</td>\n",
              "      <td>1</td>\n",
              "      <td>0</td>\n",
              "      <td>0</td>\n",
              "      <td>0</td>\n",
              "      <td>0</td>\n",
              "      <td>0</td>\n",
              "      <td>0</td>\n",
              "      <td>0</td>\n",
              "      <td>0</td>\n",
              "      <td>0</td>\n",
              "      <td>0</td>\n",
              "      <td>very_big</td>\n",
              "      <td>small</td>\n",
              "      <td>medium</td>\n",
              "      <td>0</td>\n",
              "      <td>0</td>\n",
              "      <td>0</td>\n",
              "      <td>0</td>\n",
              "      <td>0</td>\n",
              "      <td>1</td>\n",
              "      <td>1</td>\n",
              "      <td>0.003078</td>\n",
              "    </tr>\n",
              "    <tr>\n",
              "      <th>3</th>\n",
              "      <td>3</td>\n",
              "      <td>ID_AAgNHles</td>\n",
              "      <td>2015</td>\n",
              "      <td>R</td>\n",
              "      <td>0.0</td>\n",
              "      <td>0.000141</td>\n",
              "      <td>0.000181</td>\n",
              "      <td>0.000254</td>\n",
              "      <td>0.000228</td>\n",
              "      <td>0.999195</td>\n",
              "      <td>5.213320</td>\n",
              "      <td>25.379371</td>\n",
              "      <td>2.017136</td>\n",
              "      <td>11.293841</td>\n",
              "      <td>0.131035</td>\n",
              "      <td>0.000000</td>\n",
              "      <td>365.349451</td>\n",
              "      <td>613.591610</td>\n",
              "      <td>0.304107</td>\n",
              "      <td>0</td>\n",
              "      <td>0</td>\n",
              "      <td>0</td>\n",
              "      <td>0</td>\n",
              "      <td>0</td>\n",
              "      <td>0</td>\n",
              "      <td>0</td>\n",
              "      <td>0</td>\n",
              "      <td>0</td>\n",
              "      <td>0</td>\n",
              "      <td>0</td>\n",
              "      <td>0</td>\n",
              "      <td>1</td>\n",
              "      <td>0</td>\n",
              "      <td>0</td>\n",
              "      <td>0</td>\n",
              "      <td>0</td>\n",
              "      <td>0</td>\n",
              "      <td>0</td>\n",
              "      <td>0</td>\n",
              "      <td>0</td>\n",
              "      <td>0</td>\n",
              "      <td>0</td>\n",
              "      <td>0</td>\n",
              "      <td>0</td>\n",
              "      <td>big</td>\n",
              "      <td>medium</td>\n",
              "      <td>medium</td>\n",
              "      <td>0</td>\n",
              "      <td>0</td>\n",
              "      <td>1</td>\n",
              "      <td>0</td>\n",
              "      <td>0</td>\n",
              "      <td>1</td>\n",
              "      <td>1</td>\n",
              "      <td>11.424876</td>\n",
              "    </tr>\n",
              "    <tr>\n",
              "      <th>4</th>\n",
              "      <td>4</td>\n",
              "      <td>ID_AAishfND</td>\n",
              "      <td>2012</td>\n",
              "      <td>U</td>\n",
              "      <td>0.0</td>\n",
              "      <td>0.011649</td>\n",
              "      <td>0.017560</td>\n",
              "      <td>0.017383</td>\n",
              "      <td>0.099875</td>\n",
              "      <td>0.853533</td>\n",
              "      <td>31.734661</td>\n",
              "      <td>5.081620</td>\n",
              "      <td>22.815984</td>\n",
              "      <td>0.005047</td>\n",
              "      <td>0.130475</td>\n",
              "      <td>1.461894</td>\n",
              "      <td>222.867189</td>\n",
              "      <td>192.926363</td>\n",
              "      <td>0.605328</td>\n",
              "      <td>0</td>\n",
              "      <td>0</td>\n",
              "      <td>0</td>\n",
              "      <td>0</td>\n",
              "      <td>0</td>\n",
              "      <td>0</td>\n",
              "      <td>0</td>\n",
              "      <td>0</td>\n",
              "      <td>0</td>\n",
              "      <td>1</td>\n",
              "      <td>0</td>\n",
              "      <td>0</td>\n",
              "      <td>0</td>\n",
              "      <td>0</td>\n",
              "      <td>0</td>\n",
              "      <td>0</td>\n",
              "      <td>0</td>\n",
              "      <td>0</td>\n",
              "      <td>0</td>\n",
              "      <td>0</td>\n",
              "      <td>0</td>\n",
              "      <td>0</td>\n",
              "      <td>0</td>\n",
              "      <td>0</td>\n",
              "      <td>0</td>\n",
              "      <td>medium</td>\n",
              "      <td>big</td>\n",
              "      <td>big</td>\n",
              "      <td>0</td>\n",
              "      <td>0</td>\n",
              "      <td>1</td>\n",
              "      <td>1</td>\n",
              "      <td>0</td>\n",
              "      <td>1</td>\n",
              "      <td>1</td>\n",
              "      <td>0.135523</td>\n",
              "    </tr>\n",
              "  </tbody>\n",
              "</table>\n",
              "</div>"
            ],
            "text/plain": [
              "   index           ID  year  ... abnormal_light  poor  water_access\n",
              "0      0  ID_AAIethGy  2016  ...              1     1      0.000000\n",
              "1      1  ID_AAYiaCeL  2005  ...              1     1      0.005427\n",
              "2      2  ID_AAdurmKj  2009  ...              1     1      0.003078\n",
              "3      3  ID_AAgNHles  2015  ...              1     1     11.424876\n",
              "4      4  ID_AAishfND  2012  ...              1     1      0.135523\n",
              "\n",
              "[5 rows x 55 columns]"
            ]
          },
          "metadata": {
            "tags": []
          },
          "execution_count": 35
        }
      ]
    },
    {
      "cell_type": "code",
      "metadata": {
        "collapsed": true,
        "id": "6Vp2BWn3YIAG"
      },
      "source": [
        "\"\"\"The function below splits my train data, into 17 countries for training\n",
        "and 1 country for validation.\n",
        "input___: The name of the country with which the split will be done\n",
        "output___: 4 variables representing our split interms\n",
        "of the portion of training and validation(like the train_test_split)\"\"\"\n",
        "def split(a):\n",
        "    data=train[train.Guinea!=a]\n",
        "    x_train=data.drop(\"Target\",axis=1)\n",
        "    y_train=data[\"Target\"]\n",
        "    data_2=train[train.Guinea==a]\n",
        "    x_val=data_2.drop(\"Target\",axis=1)\n",
        "    y_val=data_2[\"Target\"]\n",
        "    return x_train,x_val,y_train,y_val"
      ],
      "execution_count": 36,
      "outputs": []
    },
    {
      "cell_type": "code",
      "metadata": {
        "collapsed": true,
        "id": "N6U5o0XyYIAH"
      },
      "source": [
        "a=1\n",
        "x_train,x_val,y_train,y_val=split(a)"
      ],
      "execution_count": 37,
      "outputs": []
    },
    {
      "cell_type": "markdown",
      "metadata": {
        "id": "SsltfzSwZEoW"
      },
      "source": [
        "Important: after splitting our train data, we decided to drop the column country, because it was of know used after."
      ]
    },
    {
      "cell_type": "markdown",
      "metadata": {
        "id": "lk4rmQrXYBCo"
      },
      "source": [
        "### Data Preprocessing\n",
        "* The numerical variables were simply normalized using min max scaling\n",
        "* The urban_or_rural variable was label encode (since it only contains 2 categories)\n",
        "\n",
        "* Our newly created features (from the group function) were one_hot encoded\n",
        "\n",
        "all this preprocessing was done using the preprocessed function below."
      ]
    },
    {
      "cell_type": "code",
      "metadata": {
        "collapsed": true,
        "id": "en5KJE9TYIAG"
      },
      "source": [
        "# creating our label encoder object\n",
        "le=LabelEncoder()\n",
        "del test['Target']"
      ],
      "execution_count": 38,
      "outputs": []
    },
    {
      "cell_type": "code",
      "metadata": {
        "collapsed": true,
        "id": "ZYEhDcd8YIAH"
      },
      "source": [
        "#we define a simple function to preprocess our data\n",
        "def preprocess(data):\n",
        "    data=data.drop([\"ID\",'index','Guinea','Cameroon','Nigeria','Kenya'],axis=1)\n",
        "    categ=['dist','pop_size','night_size']\n",
        "    #trying with one hot encoding of the country variable\n",
        "    #data=pd.get_dummies(data,prefix_sep=\"_\",columns=[\"country\"])\n",
        "    data[\"urban_or_rural\"]=le.fit_transform(data[\"urban_or_rural\"])\n",
        "    #data[\"light_size\"]=le.fit_transform(data[\"light_size\"])\n",
        "    data = pd.get_dummies(data, prefix_sep=\"_\", columns=categ)\n",
        "    scaler=MinMaxScaler(feature_range=(0,1))# we normalize the variables into values between (0 and 1)\n",
        "    data=scaler.fit_transform(data)\n",
        "    return data"
      ],
      "execution_count": 39,
      "outputs": []
    },
    {
      "cell_type": "code",
      "metadata": {
        "collapsed": true,
        "id": "GwgpV6hZYIAH"
      },
      "source": [
        "#preprocessing our data as well as the test data (test_prp)\n",
        "x_train=preprocess(x_train)\n",
        "x_val=preprocess(x_val)\n",
        "test_prp=preprocess(test)"
      ],
      "execution_count": 40,
      "outputs": []
    },
    {
      "cell_type": "markdown",
      "metadata": {
        "id": "C_liIuDDYIAI"
      },
      "source": [
        "# Now we can build our model\n",
        "\n",
        "* Catboost reveals to perform very well\n",
        "* I tried neural network but didn't perform better than catboost"
      ]
    },
    {
      "cell_type": "code",
      "metadata": {
        "collapsed": true,
        "id": "dCgaFnfnZNRb"
      },
      "source": [
        "#!pip install catboost"
      ],
      "execution_count": 41,
      "outputs": []
    },
    {
      "cell_type": "code",
      "metadata": {
        "id": "5LsMBPa0_ZG9"
      },
      "source": [
        "from xgboost import XGBRegressor\n",
        "from lightgbm import LGBMRegressor"
      ],
      "execution_count": 42,
      "outputs": []
    },
    {
      "cell_type": "code",
      "metadata": {
        "colab": {
          "base_uri": "https://localhost:8080/"
        },
        "id": "XKtVFu0HWwKd",
        "outputId": "e5484e8a-8f5e-48a7-eca8-ed686324ceab"
      },
      "source": [
        "#model3\n",
        "model_2=LGBMRegressor(max_depth=3,thread_count=8,n_estimators=100)#      learning_rate=0.2\n",
        "model_2.fit(x_train,y_train)\n",
        "model_2.score(x_val,y_val)"
      ],
      "execution_count": 43,
      "outputs": [
        {
          "output_type": "execute_result",
          "data": {
            "text/plain": [
              "0.8103102628370997"
            ]
          },
          "metadata": {
            "tags": []
          },
          "execution_count": 43
        }
      ]
    },
    {
      "cell_type": "code",
      "metadata": {
        "id": "HuPWNGwKs9AJ"
      },
      "source": [
        "#!pip install lightgbm"
      ],
      "execution_count": 44,
      "outputs": []
    },
    {
      "cell_type": "code",
      "metadata": {
        "collapsed": true,
        "id": "P_ueMZjYYIAI"
      },
      "source": [
        "from catboost import CatBoostRegressor\n",
        "from sklearn.metrics import mean_squared_error"
      ],
      "execution_count": 45,
      "outputs": []
    },
    {
      "cell_type": "code",
      "metadata": {
        "collapsed": true,
        "id": "5yghTx77YIAI"
      },
      "source": [
        "#for max_depth in [3, 5, 8, 10, 14, 18]:\n",
        "#    model = CatBoostRegressor(max_depth=max_depth)\n",
        "    # Again, you van use a better method to evaluate the model here...\n",
        "#    model.fit(x_train, y_train)\n",
        "#    print(max_depth, mean_squared_error(y_val, model.predict(x_val)))"
      ],
      "execution_count": 46,
      "outputs": []
    },
    {
      "cell_type": "markdown",
      "metadata": {
        "id": "2cXaB3JkZlmZ"
      },
      "source": [
        "No parameter tunning was done. This is because the train set distribution is different from the test set distribution. As a result the cross validation score obtain in the train data will be different on the test data(leader board score), so i decided to rely on my cross validation based on countries, i followed my instinct :) "
      ]
    },
    {
      "cell_type": "code",
      "metadata": {
        "id": "nfiXKXQbYIAJ",
        "colab": {
          "base_uri": "https://localhost:8080/"
        },
        "outputId": "189ce7b0-4fd5-47fb-cf5b-0ea9b0600971"
      },
      "source": [
        "#model3\n",
        "model_3=CatBoostRegressor(max_depth=3,thread_count=8,n_estimators=100,verbose=True)    #      learning_rate=0.2\n",
        "model_3.fit(x_train,y_train)\n",
        "model_3.score(x_val,y_val)"
      ],
      "execution_count": 47,
      "outputs": [
        {
          "output_type": "stream",
          "text": [
            "Learning rate set to 0.385694\n",
            "0:\tlearn: 0.1529742\ttotal: 61.9ms\tremaining: 6.12s\n",
            "1:\tlearn: 0.1338806\ttotal: 78.2ms\tremaining: 3.83s\n",
            "2:\tlearn: 0.1240814\ttotal: 87.8ms\tremaining: 2.84s\n",
            "3:\tlearn: 0.1173550\ttotal: 100ms\tremaining: 2.4s\n",
            "4:\tlearn: 0.1118970\ttotal: 113ms\tremaining: 2.15s\n",
            "5:\tlearn: 0.1088151\ttotal: 122ms\tremaining: 1.91s\n",
            "6:\tlearn: 0.1067036\ttotal: 132ms\tremaining: 1.75s\n",
            "7:\tlearn: 0.1048678\ttotal: 144ms\tremaining: 1.66s\n",
            "8:\tlearn: 0.1032808\ttotal: 161ms\tremaining: 1.63s\n",
            "9:\tlearn: 0.1021668\ttotal: 174ms\tremaining: 1.57s\n",
            "10:\tlearn: 0.1010805\ttotal: 200ms\tremaining: 1.61s\n",
            "11:\tlearn: 0.1001766\ttotal: 209ms\tremaining: 1.54s\n",
            "12:\tlearn: 0.0996635\ttotal: 227ms\tremaining: 1.52s\n",
            "13:\tlearn: 0.0991929\ttotal: 231ms\tremaining: 1.42s\n",
            "14:\tlearn: 0.0985998\ttotal: 247ms\tremaining: 1.4s\n",
            "15:\tlearn: 0.0981941\ttotal: 263ms\tremaining: 1.38s\n",
            "16:\tlearn: 0.0978404\ttotal: 284ms\tremaining: 1.39s\n",
            "17:\tlearn: 0.0973445\ttotal: 305ms\tremaining: 1.39s\n",
            "18:\tlearn: 0.0970414\ttotal: 320ms\tremaining: 1.36s\n",
            "19:\tlearn: 0.0967394\ttotal: 333ms\tremaining: 1.33s\n",
            "20:\tlearn: 0.0964528\ttotal: 344ms\tremaining: 1.29s\n",
            "21:\tlearn: 0.0961599\ttotal: 360ms\tremaining: 1.27s\n",
            "22:\tlearn: 0.0958994\ttotal: 372ms\tremaining: 1.24s\n",
            "23:\tlearn: 0.0956676\ttotal: 389ms\tremaining: 1.23s\n",
            "24:\tlearn: 0.0955043\ttotal: 411ms\tremaining: 1.23s\n",
            "25:\tlearn: 0.0953564\ttotal: 428ms\tremaining: 1.22s\n",
            "26:\tlearn: 0.0951975\ttotal: 444ms\tremaining: 1.2s\n",
            "27:\tlearn: 0.0950690\ttotal: 449ms\tremaining: 1.15s\n",
            "28:\tlearn: 0.0946965\ttotal: 458ms\tremaining: 1.12s\n",
            "29:\tlearn: 0.0944456\ttotal: 470ms\tremaining: 1.1s\n",
            "30:\tlearn: 0.0942402\ttotal: 484ms\tremaining: 1.08s\n",
            "31:\tlearn: 0.0940519\ttotal: 498ms\tremaining: 1.06s\n",
            "32:\tlearn: 0.0939188\ttotal: 507ms\tremaining: 1.03s\n",
            "33:\tlearn: 0.0937120\ttotal: 516ms\tremaining: 1s\n",
            "34:\tlearn: 0.0935564\ttotal: 524ms\tremaining: 973ms\n",
            "35:\tlearn: 0.0933822\ttotal: 539ms\tremaining: 958ms\n",
            "36:\tlearn: 0.0932179\ttotal: 544ms\tremaining: 927ms\n",
            "37:\tlearn: 0.0930332\ttotal: 558ms\tremaining: 911ms\n",
            "38:\tlearn: 0.0928619\ttotal: 565ms\tremaining: 884ms\n",
            "39:\tlearn: 0.0927248\ttotal: 579ms\tremaining: 869ms\n",
            "40:\tlearn: 0.0925704\ttotal: 587ms\tremaining: 845ms\n",
            "41:\tlearn: 0.0924562\ttotal: 592ms\tremaining: 818ms\n",
            "42:\tlearn: 0.0923725\ttotal: 601ms\tremaining: 797ms\n",
            "43:\tlearn: 0.0921808\ttotal: 611ms\tremaining: 777ms\n",
            "44:\tlearn: 0.0919278\ttotal: 631ms\tremaining: 771ms\n",
            "45:\tlearn: 0.0917920\ttotal: 641ms\tremaining: 753ms\n",
            "46:\tlearn: 0.0917026\ttotal: 656ms\tremaining: 740ms\n",
            "47:\tlearn: 0.0915592\ttotal: 672ms\tremaining: 728ms\n",
            "48:\tlearn: 0.0914330\ttotal: 683ms\tremaining: 711ms\n",
            "49:\tlearn: 0.0913591\ttotal: 695ms\tremaining: 695ms\n",
            "50:\tlearn: 0.0912319\ttotal: 703ms\tremaining: 675ms\n",
            "51:\tlearn: 0.0910882\ttotal: 723ms\tremaining: 667ms\n",
            "52:\tlearn: 0.0909827\ttotal: 738ms\tremaining: 654ms\n",
            "53:\tlearn: 0.0909126\ttotal: 752ms\tremaining: 641ms\n",
            "54:\tlearn: 0.0907715\ttotal: 758ms\tremaining: 620ms\n",
            "55:\tlearn: 0.0906823\ttotal: 770ms\tremaining: 605ms\n",
            "56:\tlearn: 0.0905772\ttotal: 777ms\tremaining: 586ms\n",
            "57:\tlearn: 0.0905080\ttotal: 783ms\tremaining: 567ms\n",
            "58:\tlearn: 0.0903719\ttotal: 789ms\tremaining: 548ms\n",
            "59:\tlearn: 0.0902921\ttotal: 806ms\tremaining: 537ms\n",
            "60:\tlearn: 0.0902272\ttotal: 820ms\tremaining: 524ms\n",
            "61:\tlearn: 0.0901057\ttotal: 836ms\tremaining: 513ms\n",
            "62:\tlearn: 0.0900445\ttotal: 850ms\tremaining: 499ms\n",
            "63:\tlearn: 0.0899757\ttotal: 872ms\tremaining: 491ms\n",
            "64:\tlearn: 0.0899084\ttotal: 881ms\tremaining: 474ms\n",
            "65:\tlearn: 0.0898120\ttotal: 894ms\tremaining: 460ms\n",
            "66:\tlearn: 0.0897496\ttotal: 906ms\tremaining: 446ms\n",
            "67:\tlearn: 0.0896243\ttotal: 917ms\tremaining: 432ms\n",
            "68:\tlearn: 0.0895237\ttotal: 928ms\tremaining: 417ms\n",
            "69:\tlearn: 0.0894457\ttotal: 942ms\tremaining: 404ms\n",
            "70:\tlearn: 0.0893881\ttotal: 954ms\tremaining: 390ms\n",
            "71:\tlearn: 0.0892931\ttotal: 970ms\tremaining: 377ms\n",
            "72:\tlearn: 0.0891700\ttotal: 978ms\tremaining: 362ms\n",
            "73:\tlearn: 0.0890700\ttotal: 986ms\tremaining: 346ms\n",
            "74:\tlearn: 0.0890193\ttotal: 1.01s\tremaining: 336ms\n",
            "75:\tlearn: 0.0889223\ttotal: 1.02s\tremaining: 321ms\n",
            "76:\tlearn: 0.0888629\ttotal: 1.03s\tremaining: 308ms\n",
            "77:\tlearn: 0.0886724\ttotal: 1.04s\tremaining: 294ms\n",
            "78:\tlearn: 0.0885997\ttotal: 1.05s\tremaining: 280ms\n",
            "79:\tlearn: 0.0884798\ttotal: 1.06s\tremaining: 266ms\n",
            "80:\tlearn: 0.0884107\ttotal: 1.07s\tremaining: 251ms\n",
            "81:\tlearn: 0.0883181\ttotal: 1.09s\tremaining: 239ms\n",
            "82:\tlearn: 0.0881794\ttotal: 1.1s\tremaining: 226ms\n",
            "83:\tlearn: 0.0881019\ttotal: 1.12s\tremaining: 213ms\n",
            "84:\tlearn: 0.0880446\ttotal: 1.14s\tremaining: 200ms\n",
            "85:\tlearn: 0.0880084\ttotal: 1.15s\tremaining: 188ms\n",
            "86:\tlearn: 0.0879618\ttotal: 1.17s\tremaining: 174ms\n",
            "87:\tlearn: 0.0878920\ttotal: 1.17s\tremaining: 160ms\n",
            "88:\tlearn: 0.0878524\ttotal: 1.18s\tremaining: 146ms\n",
            "89:\tlearn: 0.0877811\ttotal: 1.2s\tremaining: 133ms\n",
            "90:\tlearn: 0.0877273\ttotal: 1.21s\tremaining: 120ms\n",
            "91:\tlearn: 0.0876696\ttotal: 1.23s\tremaining: 107ms\n",
            "92:\tlearn: 0.0876192\ttotal: 1.24s\tremaining: 93.5ms\n",
            "93:\tlearn: 0.0875593\ttotal: 1.25s\tremaining: 80ms\n",
            "94:\tlearn: 0.0875270\ttotal: 1.26s\tremaining: 66.6ms\n",
            "95:\tlearn: 0.0874356\ttotal: 1.27s\tremaining: 53.1ms\n",
            "96:\tlearn: 0.0873603\ttotal: 1.29s\tremaining: 39.9ms\n",
            "97:\tlearn: 0.0873113\ttotal: 1.3s\tremaining: 26.5ms\n",
            "98:\tlearn: 0.0872295\ttotal: 1.31s\tremaining: 13.2ms\n",
            "99:\tlearn: 0.0871553\ttotal: 1.32s\tremaining: 0us\n"
          ],
          "name": "stdout"
        },
        {
          "output_type": "execute_result",
          "data": {
            "text/plain": [
              "0.7605156684221945"
            ]
          },
          "metadata": {
            "tags": []
          },
          "execution_count": 47
        }
      ]
    },
    {
      "cell_type": "code",
      "metadata": {
        "collapsed": true,
        "id": "u2rOQttHYIAJ"
      },
      "source": [
        "#from sklearn.model_selection import train_test_split\n",
        "#from xgboost import XGBRegressor\n",
        "#x_train,x_val,y_train,y_val=train_test_split(train_prp,y,test_size=0.1,random_state=42)"
      ],
      "execution_count": 48,
      "outputs": []
    },
    {
      "cell_type": "code",
      "metadata": {
        "id": "EhfKDGgsYIAJ",
        "colab": {
          "base_uri": "https://localhost:8080/"
        },
        "outputId": "a5e84ad2-479a-43fc-e85a-e74c3e45c601"
      },
      "source": [
        "#using the mean_squared error as metric\n",
        "from sklearn.metrics import mean_squared_error\n",
        "print(\"the mean square error for country {} is {}\".format(a,mean_squared_error(y_val,model_3.predict(x_val))))"
      ],
      "execution_count": 49,
      "outputs": [
        {
          "output_type": "stream",
          "text": [
            "the mean square error for country 1 is 0.00824091239835235\n"
          ],
          "name": "stdout"
        }
      ]
    },
    {
      "cell_type": "code",
      "metadata": {
        "collapsed": true,
        "id": "Voj5sDs7YIAL"
      },
      "source": [
        "#creating our submission file\n",
        "submit[\"Target\"]=model_3.predict(test_prp)"
      ],
      "execution_count": 50,
      "outputs": []
    },
    {
      "cell_type": "code",
      "metadata": {
        "colab": {
          "base_uri": "https://localhost:8080/",
          "height": 202
        },
        "id": "l1reBrO5adJ5",
        "outputId": "c493bb4b-b77a-4284-fc2b-41935d3ab2bb"
      },
      "source": [
        "submit.head()"
      ],
      "execution_count": 51,
      "outputs": [
        {
          "output_type": "execute_result",
          "data": {
            "text/html": [
              "<div>\n",
              "<style scoped>\n",
              "    .dataframe tbody tr th:only-of-type {\n",
              "        vertical-align: middle;\n",
              "    }\n",
              "\n",
              "    .dataframe tbody tr th {\n",
              "        vertical-align: top;\n",
              "    }\n",
              "\n",
              "    .dataframe thead th {\n",
              "        text-align: right;\n",
              "    }\n",
              "</style>\n",
              "<table border=\"1\" class=\"dataframe\">\n",
              "  <thead>\n",
              "    <tr style=\"text-align: right;\">\n",
              "      <th></th>\n",
              "      <th>ID</th>\n",
              "      <th>Target</th>\n",
              "    </tr>\n",
              "  </thead>\n",
              "  <tbody>\n",
              "    <tr>\n",
              "      <th>0</th>\n",
              "      <td>ID_AAcismbB</td>\n",
              "      <td>0.089644</td>\n",
              "    </tr>\n",
              "    <tr>\n",
              "      <th>1</th>\n",
              "      <td>ID_AAeBMsji</td>\n",
              "      <td>0.215986</td>\n",
              "    </tr>\n",
              "    <tr>\n",
              "      <th>2</th>\n",
              "      <td>ID_AAjFMjzy</td>\n",
              "      <td>0.628663</td>\n",
              "    </tr>\n",
              "    <tr>\n",
              "      <th>3</th>\n",
              "      <td>ID_AAmMOEEC</td>\n",
              "      <td>0.391997</td>\n",
              "    </tr>\n",
              "    <tr>\n",
              "      <th>4</th>\n",
              "      <td>ID_ABguzDxp</td>\n",
              "      <td>0.236327</td>\n",
              "    </tr>\n",
              "  </tbody>\n",
              "</table>\n",
              "</div>"
            ],
            "text/plain": [
              "            ID    Target\n",
              "0  ID_AAcismbB  0.089644\n",
              "1  ID_AAeBMsji  0.215986\n",
              "2  ID_AAjFMjzy  0.628663\n",
              "3  ID_AAmMOEEC  0.391997\n",
              "4  ID_ABguzDxp  0.236327"
            ]
          },
          "metadata": {
            "tags": []
          },
          "execution_count": 51
        }
      ]
    },
    {
      "cell_type": "code",
      "metadata": {
        "collapsed": true,
        "id": "YIZvqojcYIAM"
      },
      "source": [
        "submit.to_csv(\"baseline.csv\",index=False)"
      ],
      "execution_count": 52,
      "outputs": []
    }
  ]
}